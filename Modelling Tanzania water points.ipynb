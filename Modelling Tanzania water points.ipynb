{
 "cells": [
  {
   "cell_type": "code",
   "execution_count": 1,
   "id": "152e87bf",
   "metadata": {},
   "outputs": [
    {
     "name": "stdout",
     "output_type": "stream",
     "text": [
      "Collecting ipynb\n",
      "  Downloading ipynb-0.5.1-py3-none-any.whl (6.9 kB)\n",
      "Installing collected packages: ipynb\n",
      "Successfully installed ipynb-0.5.1\n"
     ]
    }
   ],
   "source": [
    "! pip install ipynb"
   ]
  },
  {
   "cell_type": "code",
   "execution_count": 2,
   "id": "b8a253ed",
   "metadata": {},
   "outputs": [
    {
     "ename": "ModuleNotFoundError",
     "evalue": "No module named 'ipynb.fs.full.TanzaniaWaterWells'",
     "output_type": "error",
     "traceback": [
      "\u001b[1;31m---------------------------------------------------------------------------\u001b[0m",
      "\u001b[1;31mModuleNotFoundError\u001b[0m                       Traceback (most recent call last)",
      "\u001b[1;32mc:\\Users\\waiti\\Documents\\Flatiron\\phase3_project\\TANZANIA-WATER-WELLS-PROJECT\\Modelling Tanzania water points.ipynb Cell 2\u001b[0m in \u001b[0;36m<cell line: 1>\u001b[1;34m()\u001b[0m\n\u001b[1;32m----> <a href='vscode-notebook-cell:/c%3A/Users/waiti/Documents/Flatiron/phase3_project/TANZANIA-WATER-WELLS-PROJECT/Modelling%20Tanzania%20water%20points.ipynb#ch0000002?line=0'>1</a>\u001b[0m \u001b[39mfrom\u001b[39;00m \u001b[39mipynb\u001b[39;00m\u001b[39m.\u001b[39;00m\u001b[39mfs\u001b[39;00m\u001b[39m.\u001b[39;00m\u001b[39mfull\u001b[39;00m\u001b[39m.\u001b[39;00m\u001b[39mTanzaniaWaterWells\u001b[39;00m \u001b[39mimport\u001b[39;00m \u001b[39m*\u001b[39m\n",
      "\u001b[1;31mModuleNotFoundError\u001b[0m: No module named 'ipynb.fs.full.TanzaniaWaterWells'"
     ]
    }
   ],
   "source": [
    "from ipynb.fs.full.TanzaniaWaterWells import *"
   ]
  }
 ],
 "metadata": {
  "kernelspec": {
   "display_name": "Python (learn-env)",
   "language": "python",
   "name": "learn-env"
  },
  "language_info": {
   "codemirror_mode": {
    "name": "ipython",
    "version": 3
   },
   "file_extension": ".py",
   "mimetype": "text/x-python",
   "name": "python",
   "nbconvert_exporter": "python",
   "pygments_lexer": "ipython3",
   "version": "3.9.12"
  },
  "vscode": {
   "interpreter": {
    "hash": "9ad04f1516e999b84e311d98a37c86acbdeebd5658850f3eefb68ad6d8725070"
   }
  }
 },
 "nbformat": 4,
 "nbformat_minor": 5
}
