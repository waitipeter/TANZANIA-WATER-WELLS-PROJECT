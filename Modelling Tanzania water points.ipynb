{
 "cells": [
  {
   "cell_type": "markdown",
   "id": "d098b331",
   "metadata": {},
   "source": [
    "## MODELLING TANZANIA WATER POINTS"
   ]
  },
  {
   "cell_type": "markdown",
   "id": "e6a12532",
   "metadata": {},
   "source": [
    "### Data pre-processing"
   ]
  },
  {
   "cell_type": "markdown",
   "id": "0ec756ac",
   "metadata": {},
   "source": [
    "I will drop some columns that have no meaningfull information to the model. I will also convert our target variable from strings of (functional, non functional, functional needs repair) to 0,1 and 2 values in order to make our model. I will import my cleaned data from my EDA notebook for the purpose of modelling. This will help in reducing run time for my modelling purpose. "
   ]
  },
  {
   "cell_type": "markdown",
   "id": "aa3782c0",
   "metadata": {},
   "source": [
    "Importing my EDA notebook"
   ]
  },
  {
   "cell_type": "code",
   "execution_count": 2,
   "id": "c9271889",
   "metadata": {},
   "outputs": [],
   "source": [
    "from ipynb.fs.full.EDA import *"
   ]
  },
  {
   "cell_type": "code",
   "execution_count": 4,
   "id": "6011476c",
   "metadata": {},
   "outputs": [
    {
     "data": {
      "text/html": [
       "<div>\n",
       "<style scoped>\n",
       "    .dataframe tbody tr th:only-of-type {\n",
       "        vertical-align: middle;\n",
       "    }\n",
       "\n",
       "    .dataframe tbody tr th {\n",
       "        vertical-align: top;\n",
       "    }\n",
       "\n",
       "    .dataframe thead th {\n",
       "        text-align: right;\n",
       "    }\n",
       "</style>\n",
       "<table border=\"1\" class=\"dataframe\">\n",
       "  <thead>\n",
       "    <tr style=\"text-align: right;\">\n",
       "      <th></th>\n",
       "      <th>gps_height</th>\n",
       "      <th>longitude</th>\n",
       "      <th>latitude</th>\n",
       "      <th>basin</th>\n",
       "      <th>region</th>\n",
       "      <th>district_code</th>\n",
       "      <th>lga</th>\n",
       "      <th>ward</th>\n",
       "      <th>population</th>\n",
       "      <th>public_meeting</th>\n",
       "      <th>permit</th>\n",
       "      <th>extraction_type_group</th>\n",
       "      <th>management</th>\n",
       "      <th>payment</th>\n",
       "      <th>water_quality</th>\n",
       "      <th>quantity</th>\n",
       "      <th>source</th>\n",
       "      <th>waterpoint_type</th>\n",
       "      <th>status_group</th>\n",
       "      <th>construction_year_bins</th>\n",
       "    </tr>\n",
       "  </thead>\n",
       "  <tbody>\n",
       "    <tr>\n",
       "      <th>0</th>\n",
       "      <td>1390</td>\n",
       "      <td>34.938093</td>\n",
       "      <td>-9.856322</td>\n",
       "      <td>Lake Nyasa</td>\n",
       "      <td>Iringa</td>\n",
       "      <td>5</td>\n",
       "      <td>Ludewa</td>\n",
       "      <td>Mundindi</td>\n",
       "      <td>109</td>\n",
       "      <td>True</td>\n",
       "      <td>False</td>\n",
       "      <td>gravity</td>\n",
       "      <td>vwc</td>\n",
       "      <td>pay annually</td>\n",
       "      <td>soft</td>\n",
       "      <td>enough</td>\n",
       "      <td>spring</td>\n",
       "      <td>communal standpipe</td>\n",
       "      <td>functional</td>\n",
       "      <td>(1990, 2000]</td>\n",
       "    </tr>\n",
       "    <tr>\n",
       "      <th>1</th>\n",
       "      <td>1399</td>\n",
       "      <td>34.698766</td>\n",
       "      <td>-2.147466</td>\n",
       "      <td>Lake Victoria</td>\n",
       "      <td>Mara</td>\n",
       "      <td>2</td>\n",
       "      <td>Serengeti</td>\n",
       "      <td>Natta</td>\n",
       "      <td>280</td>\n",
       "      <td>True</td>\n",
       "      <td>True</td>\n",
       "      <td>gravity</td>\n",
       "      <td>wug</td>\n",
       "      <td>never pay</td>\n",
       "      <td>soft</td>\n",
       "      <td>insufficient</td>\n",
       "      <td>rainwater harvesting</td>\n",
       "      <td>communal standpipe</td>\n",
       "      <td>functional</td>\n",
       "      <td>(2000, 2010]</td>\n",
       "    </tr>\n",
       "    <tr>\n",
       "      <th>2</th>\n",
       "      <td>686</td>\n",
       "      <td>37.460664</td>\n",
       "      <td>-3.821329</td>\n",
       "      <td>Pangani</td>\n",
       "      <td>Manyara</td>\n",
       "      <td>4</td>\n",
       "      <td>Simanjiro</td>\n",
       "      <td>Ngorika</td>\n",
       "      <td>250</td>\n",
       "      <td>True</td>\n",
       "      <td>True</td>\n",
       "      <td>gravity</td>\n",
       "      <td>vwc</td>\n",
       "      <td>pay per bucket</td>\n",
       "      <td>soft</td>\n",
       "      <td>enough</td>\n",
       "      <td>dam</td>\n",
       "      <td>communal standpipe multiple</td>\n",
       "      <td>functional</td>\n",
       "      <td>(2000, 2010]</td>\n",
       "    </tr>\n",
       "    <tr>\n",
       "      <th>3</th>\n",
       "      <td>263</td>\n",
       "      <td>38.486161</td>\n",
       "      <td>-11.155298</td>\n",
       "      <td>Ruvuma / Southern Coast</td>\n",
       "      <td>Mtwara</td>\n",
       "      <td>63</td>\n",
       "      <td>Nanyumbu</td>\n",
       "      <td>Nanyumbu</td>\n",
       "      <td>58</td>\n",
       "      <td>True</td>\n",
       "      <td>True</td>\n",
       "      <td>submersible</td>\n",
       "      <td>vwc</td>\n",
       "      <td>never pay</td>\n",
       "      <td>soft</td>\n",
       "      <td>dry</td>\n",
       "      <td>machine dbh</td>\n",
       "      <td>communal standpipe multiple</td>\n",
       "      <td>non functional</td>\n",
       "      <td>(1980, 1990]</td>\n",
       "    </tr>\n",
       "    <tr>\n",
       "      <th>4</th>\n",
       "      <td>0</td>\n",
       "      <td>31.130847</td>\n",
       "      <td>-1.825359</td>\n",
       "      <td>Lake Victoria</td>\n",
       "      <td>Kagera</td>\n",
       "      <td>1</td>\n",
       "      <td>Karagwe</td>\n",
       "      <td>Nyakasimbi</td>\n",
       "      <td>281</td>\n",
       "      <td>True</td>\n",
       "      <td>True</td>\n",
       "      <td>gravity</td>\n",
       "      <td>other</td>\n",
       "      <td>never pay</td>\n",
       "      <td>soft</td>\n",
       "      <td>seasonal</td>\n",
       "      <td>rainwater harvesting</td>\n",
       "      <td>communal standpipe</td>\n",
       "      <td>functional</td>\n",
       "      <td>(1990, 2000]</td>\n",
       "    </tr>\n",
       "  </tbody>\n",
       "</table>\n",
       "</div>"
      ],
      "text/plain": [
       "   gps_height  longitude   latitude                    basin   region  \\\n",
       "0        1390  34.938093  -9.856322               Lake Nyasa   Iringa   \n",
       "1        1399  34.698766  -2.147466            Lake Victoria     Mara   \n",
       "2         686  37.460664  -3.821329                  Pangani  Manyara   \n",
       "3         263  38.486161 -11.155298  Ruvuma / Southern Coast   Mtwara   \n",
       "4           0  31.130847  -1.825359            Lake Victoria   Kagera   \n",
       "\n",
       "   district_code        lga        ward  population  public_meeting  permit  \\\n",
       "0              5     Ludewa    Mundindi         109            True   False   \n",
       "1              2  Serengeti       Natta         280            True    True   \n",
       "2              4  Simanjiro     Ngorika         250            True    True   \n",
       "3             63   Nanyumbu    Nanyumbu          58            True    True   \n",
       "4              1    Karagwe  Nyakasimbi         281            True    True   \n",
       "\n",
       "  extraction_type_group management         payment water_quality  \\\n",
       "0               gravity        vwc    pay annually          soft   \n",
       "1               gravity        wug       never pay          soft   \n",
       "2               gravity        vwc  pay per bucket          soft   \n",
       "3           submersible        vwc       never pay          soft   \n",
       "4               gravity      other       never pay          soft   \n",
       "\n",
       "       quantity                source              waterpoint_type  \\\n",
       "0        enough                spring           communal standpipe   \n",
       "1  insufficient  rainwater harvesting           communal standpipe   \n",
       "2        enough                   dam  communal standpipe multiple   \n",
       "3           dry           machine dbh  communal standpipe multiple   \n",
       "4      seasonal  rainwater harvesting           communal standpipe   \n",
       "\n",
       "     status_group construction_year_bins  \n",
       "0      functional           (1990, 2000]  \n",
       "1      functional           (2000, 2010]  \n",
       "2      functional           (2000, 2010]  \n",
       "3  non functional           (1980, 1990]  \n",
       "4      functional           (1990, 2000]  "
      ]
     },
     "execution_count": 4,
     "metadata": {},
     "output_type": "execute_result"
    }
   ],
   "source": [
    "df.head()"
   ]
  },
  {
   "cell_type": "markdown",
   "id": "6d338e70",
   "metadata": {},
   "source": [
    "I will create a copy of the cleaned data df from the EDA notebook so as to maintain the cleaned data as it is."
   ]
  },
  {
   "cell_type": "code",
   "execution_count": 5,
   "id": "2b478a5f",
   "metadata": {},
   "outputs": [],
   "source": [
    "#create a copy of the clean df\n",
    "clean_df = df.copy()"
   ]
  },
  {
   "cell_type": "code",
   "execution_count": 7,
   "id": "c332ea0c",
   "metadata": {},
   "outputs": [
    {
     "data": {
      "text/html": [
       "<div>\n",
       "<style scoped>\n",
       "    .dataframe tbody tr th:only-of-type {\n",
       "        vertical-align: middle;\n",
       "    }\n",
       "\n",
       "    .dataframe tbody tr th {\n",
       "        vertical-align: top;\n",
       "    }\n",
       "\n",
       "    .dataframe thead th {\n",
       "        text-align: right;\n",
       "    }\n",
       "</style>\n",
       "<table border=\"1\" class=\"dataframe\">\n",
       "  <thead>\n",
       "    <tr style=\"text-align: right;\">\n",
       "      <th></th>\n",
       "      <th>gps_height</th>\n",
       "      <th>longitude</th>\n",
       "      <th>latitude</th>\n",
       "      <th>basin</th>\n",
       "      <th>region</th>\n",
       "      <th>district_code</th>\n",
       "      <th>lga</th>\n",
       "      <th>ward</th>\n",
       "      <th>population</th>\n",
       "      <th>public_meeting</th>\n",
       "      <th>permit</th>\n",
       "      <th>extraction_type_group</th>\n",
       "      <th>management</th>\n",
       "      <th>payment</th>\n",
       "      <th>water_quality</th>\n",
       "      <th>quantity</th>\n",
       "      <th>source</th>\n",
       "      <th>waterpoint_type</th>\n",
       "      <th>status_group</th>\n",
       "      <th>construction_year_bins</th>\n",
       "    </tr>\n",
       "  </thead>\n",
       "  <tbody>\n",
       "    <tr>\n",
       "      <th>0</th>\n",
       "      <td>1390</td>\n",
       "      <td>34.938093</td>\n",
       "      <td>-9.856322</td>\n",
       "      <td>Lake Nyasa</td>\n",
       "      <td>Iringa</td>\n",
       "      <td>5</td>\n",
       "      <td>Ludewa</td>\n",
       "      <td>Mundindi</td>\n",
       "      <td>109</td>\n",
       "      <td>True</td>\n",
       "      <td>False</td>\n",
       "      <td>gravity</td>\n",
       "      <td>vwc</td>\n",
       "      <td>pay annually</td>\n",
       "      <td>soft</td>\n",
       "      <td>enough</td>\n",
       "      <td>spring</td>\n",
       "      <td>communal standpipe</td>\n",
       "      <td>functional</td>\n",
       "      <td>(1990, 2000]</td>\n",
       "    </tr>\n",
       "    <tr>\n",
       "      <th>1</th>\n",
       "      <td>1399</td>\n",
       "      <td>34.698766</td>\n",
       "      <td>-2.147466</td>\n",
       "      <td>Lake Victoria</td>\n",
       "      <td>Mara</td>\n",
       "      <td>2</td>\n",
       "      <td>Serengeti</td>\n",
       "      <td>Natta</td>\n",
       "      <td>280</td>\n",
       "      <td>True</td>\n",
       "      <td>True</td>\n",
       "      <td>gravity</td>\n",
       "      <td>wug</td>\n",
       "      <td>never pay</td>\n",
       "      <td>soft</td>\n",
       "      <td>insufficient</td>\n",
       "      <td>rainwater harvesting</td>\n",
       "      <td>communal standpipe</td>\n",
       "      <td>functional</td>\n",
       "      <td>(2000, 2010]</td>\n",
       "    </tr>\n",
       "    <tr>\n",
       "      <th>2</th>\n",
       "      <td>686</td>\n",
       "      <td>37.460664</td>\n",
       "      <td>-3.821329</td>\n",
       "      <td>Pangani</td>\n",
       "      <td>Manyara</td>\n",
       "      <td>4</td>\n",
       "      <td>Simanjiro</td>\n",
       "      <td>Ngorika</td>\n",
       "      <td>250</td>\n",
       "      <td>True</td>\n",
       "      <td>True</td>\n",
       "      <td>gravity</td>\n",
       "      <td>vwc</td>\n",
       "      <td>pay per bucket</td>\n",
       "      <td>soft</td>\n",
       "      <td>enough</td>\n",
       "      <td>dam</td>\n",
       "      <td>communal standpipe multiple</td>\n",
       "      <td>functional</td>\n",
       "      <td>(2000, 2010]</td>\n",
       "    </tr>\n",
       "    <tr>\n",
       "      <th>3</th>\n",
       "      <td>263</td>\n",
       "      <td>38.486161</td>\n",
       "      <td>-11.155298</td>\n",
       "      <td>Ruvuma / Southern Coast</td>\n",
       "      <td>Mtwara</td>\n",
       "      <td>63</td>\n",
       "      <td>Nanyumbu</td>\n",
       "      <td>Nanyumbu</td>\n",
       "      <td>58</td>\n",
       "      <td>True</td>\n",
       "      <td>True</td>\n",
       "      <td>submersible</td>\n",
       "      <td>vwc</td>\n",
       "      <td>never pay</td>\n",
       "      <td>soft</td>\n",
       "      <td>dry</td>\n",
       "      <td>machine dbh</td>\n",
       "      <td>communal standpipe multiple</td>\n",
       "      <td>non functional</td>\n",
       "      <td>(1980, 1990]</td>\n",
       "    </tr>\n",
       "    <tr>\n",
       "      <th>4</th>\n",
       "      <td>0</td>\n",
       "      <td>31.130847</td>\n",
       "      <td>-1.825359</td>\n",
       "      <td>Lake Victoria</td>\n",
       "      <td>Kagera</td>\n",
       "      <td>1</td>\n",
       "      <td>Karagwe</td>\n",
       "      <td>Nyakasimbi</td>\n",
       "      <td>281</td>\n",
       "      <td>True</td>\n",
       "      <td>True</td>\n",
       "      <td>gravity</td>\n",
       "      <td>other</td>\n",
       "      <td>never pay</td>\n",
       "      <td>soft</td>\n",
       "      <td>seasonal</td>\n",
       "      <td>rainwater harvesting</td>\n",
       "      <td>communal standpipe</td>\n",
       "      <td>functional</td>\n",
       "      <td>(1990, 2000]</td>\n",
       "    </tr>\n",
       "  </tbody>\n",
       "</table>\n",
       "</div>"
      ],
      "text/plain": [
       "   gps_height  longitude   latitude                    basin   region  \\\n",
       "0        1390  34.938093  -9.856322               Lake Nyasa   Iringa   \n",
       "1        1399  34.698766  -2.147466            Lake Victoria     Mara   \n",
       "2         686  37.460664  -3.821329                  Pangani  Manyara   \n",
       "3         263  38.486161 -11.155298  Ruvuma / Southern Coast   Mtwara   \n",
       "4           0  31.130847  -1.825359            Lake Victoria   Kagera   \n",
       "\n",
       "   district_code        lga        ward  population  public_meeting  permit  \\\n",
       "0              5     Ludewa    Mundindi         109            True   False   \n",
       "1              2  Serengeti       Natta         280            True    True   \n",
       "2              4  Simanjiro     Ngorika         250            True    True   \n",
       "3             63   Nanyumbu    Nanyumbu          58            True    True   \n",
       "4              1    Karagwe  Nyakasimbi         281            True    True   \n",
       "\n",
       "  extraction_type_group management         payment water_quality  \\\n",
       "0               gravity        vwc    pay annually          soft   \n",
       "1               gravity        wug       never pay          soft   \n",
       "2               gravity        vwc  pay per bucket          soft   \n",
       "3           submersible        vwc       never pay          soft   \n",
       "4               gravity      other       never pay          soft   \n",
       "\n",
       "       quantity                source              waterpoint_type  \\\n",
       "0        enough                spring           communal standpipe   \n",
       "1  insufficient  rainwater harvesting           communal standpipe   \n",
       "2        enough                   dam  communal standpipe multiple   \n",
       "3           dry           machine dbh  communal standpipe multiple   \n",
       "4      seasonal  rainwater harvesting           communal standpipe   \n",
       "\n",
       "     status_group construction_year_bins  \n",
       "0      functional           (1990, 2000]  \n",
       "1      functional           (2000, 2010]  \n",
       "2      functional           (2000, 2010]  \n",
       "3  non functional           (1980, 1990]  \n",
       "4      functional           (1990, 2000]  "
      ]
     },
     "execution_count": 7,
     "metadata": {},
     "output_type": "execute_result"
    }
   ],
   "source": [
    "clean_df.head()"
   ]
  },
  {
   "cell_type": "markdown",
   "id": "382042c9",
   "metadata": {},
   "source": [
    "#### Converting Target variable to numerical variables of 0,1,2"
   ]
  },
  {
   "cell_type": "markdown",
   "id": "e15d2b8f",
   "metadata": {},
   "source": [
    "We need to convert our target variable from strings of (functional, non functional, functional needs repair) to 0,1 and 2 values in order to make our model"
   ]
  },
  {
   "cell_type": "code",
   "execution_count": 8,
   "id": "5ab8a8a3",
   "metadata": {},
   "outputs": [],
   "source": [
    "target_variable = {'functional':0, \n",
    "                   'non functional': 2, \n",
    "                   'functional needs repair': 1} \n",
    "clean_df['status_group'] = clean_df['status_group'].replace(target_variable)"
   ]
  },
  {
   "cell_type": "code",
   "execution_count": 9,
   "id": "7136fd3d",
   "metadata": {},
   "outputs": [
    {
     "data": {
      "text/plain": [
       "0    32259\n",
       "2    22824\n",
       "1     4317\n",
       "Name: status_group, dtype: int64"
      ]
     },
     "execution_count": 9,
     "metadata": {},
     "output_type": "execute_result"
    }
   ],
   "source": [
    "clean_df['status_group'].value_counts()"
   ]
  },
  {
   "cell_type": "markdown",
   "id": "93f7541a",
   "metadata": {},
   "source": [
    "- 0 = functional water points ,\n",
    "\n",
    "- 2 = non-functinal water point\n",
    "\n",
    "- 1 = functional but needs repair water points,\n",
    "\n"
   ]
  },
  {
   "cell_type": "markdown",
   "id": "1f677c13",
   "metadata": {},
   "source": [
    "I will drop Iga and ward columns since we have region column with similar information"
   ]
  },
  {
   "cell_type": "code",
   "execution_count": 10,
   "id": "1bee595c",
   "metadata": {},
   "outputs": [],
   "source": [
    "#drop Iga and ward columns since we have region column with similar information\n",
    "clean_df.drop(columns=['lga','ward'],inplace=True ) "
   ]
  },
  {
   "cell_type": "markdown",
   "id": "895bfea9",
   "metadata": {},
   "source": [
    "#### converting boolean type column of true or false values to 0 and 1"
   ]
  },
  {
   "cell_type": "code",
   "execution_count": 13,
   "id": "4bae33e2",
   "metadata": {},
   "outputs": [],
   "source": [
    "#convert True/False in permit column to 0-1\n",
    "clean_df['permit'] =clean_df['permit'].astype(bool).astype(int) "
   ]
  },
  {
   "cell_type": "code",
   "execution_count": 14,
   "id": "37d3309e",
   "metadata": {},
   "outputs": [],
   "source": [
    "#convert True/False in public meeting column to 0-1\n",
    "clean_df['public_meeting'] = clean_df['public_meeting'].astype(bool).astype(int)"
   ]
  },
  {
   "cell_type": "markdown",
   "id": "24695fec",
   "metadata": {},
   "source": [
    "#### Dividing all the features in categorical and numerical features and give them variables"
   ]
  },
  {
   "cell_type": "markdown",
   "id": "1e91cf73",
   "metadata": {},
   "source": [
    "I will divide my features into two categories i.e `numerical_variables` to be scaled using scaler and `categorical_variables` to be  encoded using encoder"
   ]
  },
  {
   "cell_type": "code",
   "execution_count": 16,
   "id": "4108994b",
   "metadata": {},
   "outputs": [],
   "source": [
    "# numerical features placed in a variable \n",
    "numerical_variables = ['gps_height','longitude','latitude','district_code','population','public_meeting','permit'] "
   ]
  },
  {
   "cell_type": "code",
   "execution_count": 17,
   "id": "0c0216e5",
   "metadata": {},
   "outputs": [],
   "source": [
    "# categorical features placed in a variable  \n",
    "categorical_variables = ['basin','region','extraction_type_group','management','payment','water_quality','quantity',\n",
    "               'source','waterpoint_type','construction_year_bins']"
   ]
  },
  {
   "cell_type": "markdown",
   "id": "a35aca07",
   "metadata": {},
   "source": [
    "### Converting Target Ternary classes to Target Binary classes"
   ]
  },
  {
   "cell_type": "markdown",
   "id": "8f299cae",
   "metadata": {},
   "source": [
    "I will convert my target variable from having three classes to having two classes. I will combine functional water points with water points that are functional needs repair as 1. I will make non functional water points to be 0"
   ]
  },
  {
   "cell_type": "code",
   "execution_count": 18,
   "id": "eb589f5e",
   "metadata": {},
   "outputs": [],
   "source": [
    "# convert ternary classes to binary class\n",
    "status_group_dict = {0:1, 1: 1, 2 : 0}\n",
    "clean_df['status_group'] = clean_df['status_group'].replace(status_group_dict )"
   ]
  },
  {
   "cell_type": "code",
   "execution_count": 19,
   "id": "8be0d27d",
   "metadata": {},
   "outputs": [
    {
     "data": {
      "text/plain": [
       "1    36576\n",
       "0    22824\n",
       "Name: status_group, dtype: int64"
      ]
     },
     "execution_count": 19,
     "metadata": {},
     "output_type": "execute_result"
    }
   ],
   "source": [
    "#print the status group value count\n",
    "clean_df['status_group'].value_counts()"
   ]
  },
  {
   "cell_type": "markdown",
   "id": "5d7c1272",
   "metadata": {},
   "source": [
    "Now we have two categories to be predicted(binary)\n",
    "- 1 = functional water points ,\n",
    "\n",
    "- 0 = non-functinal water point\n",
    "\n",
    "\n"
   ]
  },
  {
   "cell_type": "markdown",
   "id": "54b6a6d1",
   "metadata": {},
   "source": [
    "### MODEL 1: Logistic Regression"
   ]
  },
  {
   "cell_type": "markdown",
   "id": "d0985eb0",
   "metadata": {},
   "source": []
  }
 ],
 "metadata": {
  "kernelspec": {
   "display_name": "Python (learn-env)",
   "language": "python",
   "name": "learn-env"
  },
  "language_info": {
   "codemirror_mode": {
    "name": "ipython",
    "version": 3
   },
   "file_extension": ".py",
   "mimetype": "text/x-python",
   "name": "python",
   "nbconvert_exporter": "python",
   "pygments_lexer": "ipython3",
   "version": "3.9.12"
  },
  "vscode": {
   "interpreter": {
    "hash": "9ad04f1516e999b84e311d98a37c86acbdeebd5658850f3eefb68ad6d8725070"
   }
  }
 },
 "nbformat": 4,
 "nbformat_minor": 5
}
