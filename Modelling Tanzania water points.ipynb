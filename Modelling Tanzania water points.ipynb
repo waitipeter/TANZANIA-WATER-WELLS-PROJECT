{
 "cells": [
  {
   "cell_type": "markdown",
   "id": "d098b331",
   "metadata": {},
   "source": [
    "## MODELLING TANZANIA WATER POINTS"
   ]
  },
  {
   "cell_type": "markdown",
   "id": "e6a12532",
   "metadata": {},
   "source": [
    "### Data pre-processing"
   ]
  },
  {
   "cell_type": "markdown",
   "id": "0ec756ac",
   "metadata": {},
   "source": [
    "I will drop some columns that have no meaningfull information to the model. I will also convert our target variable from strings of (functional, non functional, functional needs repair) to 0,1 and 2 values in order to make our model. I will import my cleaned data from my EDA notebook for the purpose of modelling. This will help in reducing run time for my modelling purpose. "
   ]
  },
  {
   "cell_type": "code",
   "execution_count": 51,
   "id": "b7e5991a",
   "metadata": {},
   "outputs": [],
   "source": [
    "# importing necessary libraries\n",
    "\n",
    "import matplotlib.pyplot as plt\n",
    "import seaborn as sns; sns.set()\n",
    "%matplotlib inline\n",
    "\n",
    "import pandas as pd\n",
    "import numpy as np\n",
    "import warnings\n",
    "warnings.filterwarnings(\"ignore\")\n",
    "\n",
    "from sklearn.model_selection import train_test_split\n",
    "from sklearn.pipeline import make_pipeline, Pipeline\n",
    "from sklearn.impute import SimpleImputer\n",
    "from sklearn.preprocessing import OneHotEncoder\n",
    "from sklearn.preprocessing import RobustScaler\n",
    "from sklearn.compose import ColumnTransformer\n",
    "from sklearn.linear_model import LogisticRegression\n",
    "from sklearn.metrics import accuracy_score, balanced_accuracy_score\n",
    "from sklearn.ensemble import RandomForestClassifier\n",
    "\n",
    "from sklearn.tree import DecisionTreeClassifier\n",
    "from sklearn.metrics import confusion_matrix\n",
    "from sklearn.metrics import plot_confusion_matrix\n",
    "from sklearn.metrics import ConfusionMatrixDisplay\n",
    "from sklearn.metrics import roc_curve, auc\n",
    "from sklearn.neighbors import KNeighborsClassifier\n",
    "from sklearn.model_selection import cross_val_score\n",
    "from sklearn.model_selection import GridSearchCV, train_test_split\n",
    "import category_encoders as ce\n",
    "from sklearn.metrics import classification_report\n",
    "from category_encoders import TargetEncoder\n",
    "from sklearn.preprocessing import MinMaxScaler\n",
    "from sklearn.neighbors import KNeighborsClassifier\n",
    "\n",
    "\n"
   ]
  },
  {
   "cell_type": "markdown",
   "id": "d9326fc7",
   "metadata": {},
   "source": [
    "I will import the libraries to use for my modelling"
   ]
  },
  {
   "cell_type": "markdown",
   "id": "aa3782c0",
   "metadata": {},
   "source": [
    "Importing my EDA notebook"
   ]
  },
  {
   "cell_type": "code",
   "execution_count": 45,
   "id": "c9271889",
   "metadata": {},
   "outputs": [],
   "source": [
    "from ipynb.fs.full.EDA import *"
   ]
  },
  {
   "cell_type": "code",
   "execution_count": 3,
   "id": "6011476c",
   "metadata": {},
   "outputs": [
    {
     "data": {
      "text/html": [
       "<div>\n",
       "<style scoped>\n",
       "    .dataframe tbody tr th:only-of-type {\n",
       "        vertical-align: middle;\n",
       "    }\n",
       "\n",
       "    .dataframe tbody tr th {\n",
       "        vertical-align: top;\n",
       "    }\n",
       "\n",
       "    .dataframe thead th {\n",
       "        text-align: right;\n",
       "    }\n",
       "</style>\n",
       "<table border=\"1\" class=\"dataframe\">\n",
       "  <thead>\n",
       "    <tr style=\"text-align: right;\">\n",
       "      <th></th>\n",
       "      <th>gps_height</th>\n",
       "      <th>longitude</th>\n",
       "      <th>latitude</th>\n",
       "      <th>basin</th>\n",
       "      <th>region</th>\n",
       "      <th>district_code</th>\n",
       "      <th>lga</th>\n",
       "      <th>ward</th>\n",
       "      <th>population</th>\n",
       "      <th>public_meeting</th>\n",
       "      <th>permit</th>\n",
       "      <th>extraction_type_group</th>\n",
       "      <th>management</th>\n",
       "      <th>payment</th>\n",
       "      <th>water_quality</th>\n",
       "      <th>quantity</th>\n",
       "      <th>source</th>\n",
       "      <th>waterpoint_type</th>\n",
       "      <th>status_group</th>\n",
       "      <th>construction_year_bins</th>\n",
       "    </tr>\n",
       "  </thead>\n",
       "  <tbody>\n",
       "    <tr>\n",
       "      <th>0</th>\n",
       "      <td>1390</td>\n",
       "      <td>34.938093</td>\n",
       "      <td>-9.856322</td>\n",
       "      <td>Lake Nyasa</td>\n",
       "      <td>Iringa</td>\n",
       "      <td>5</td>\n",
       "      <td>Ludewa</td>\n",
       "      <td>Mundindi</td>\n",
       "      <td>109</td>\n",
       "      <td>True</td>\n",
       "      <td>False</td>\n",
       "      <td>gravity</td>\n",
       "      <td>vwc</td>\n",
       "      <td>pay annually</td>\n",
       "      <td>soft</td>\n",
       "      <td>enough</td>\n",
       "      <td>spring</td>\n",
       "      <td>communal standpipe</td>\n",
       "      <td>functional</td>\n",
       "      <td>(1990, 2000]</td>\n",
       "    </tr>\n",
       "    <tr>\n",
       "      <th>1</th>\n",
       "      <td>1399</td>\n",
       "      <td>34.698766</td>\n",
       "      <td>-2.147466</td>\n",
       "      <td>Lake Victoria</td>\n",
       "      <td>Mara</td>\n",
       "      <td>2</td>\n",
       "      <td>Serengeti</td>\n",
       "      <td>Natta</td>\n",
       "      <td>280</td>\n",
       "      <td>True</td>\n",
       "      <td>True</td>\n",
       "      <td>gravity</td>\n",
       "      <td>wug</td>\n",
       "      <td>never pay</td>\n",
       "      <td>soft</td>\n",
       "      <td>insufficient</td>\n",
       "      <td>rainwater harvesting</td>\n",
       "      <td>communal standpipe</td>\n",
       "      <td>functional</td>\n",
       "      <td>(2000, 2010]</td>\n",
       "    </tr>\n",
       "    <tr>\n",
       "      <th>2</th>\n",
       "      <td>686</td>\n",
       "      <td>37.460664</td>\n",
       "      <td>-3.821329</td>\n",
       "      <td>Pangani</td>\n",
       "      <td>Manyara</td>\n",
       "      <td>4</td>\n",
       "      <td>Simanjiro</td>\n",
       "      <td>Ngorika</td>\n",
       "      <td>250</td>\n",
       "      <td>True</td>\n",
       "      <td>True</td>\n",
       "      <td>gravity</td>\n",
       "      <td>vwc</td>\n",
       "      <td>pay per bucket</td>\n",
       "      <td>soft</td>\n",
       "      <td>enough</td>\n",
       "      <td>dam</td>\n",
       "      <td>communal standpipe multiple</td>\n",
       "      <td>functional</td>\n",
       "      <td>(2000, 2010]</td>\n",
       "    </tr>\n",
       "    <tr>\n",
       "      <th>3</th>\n",
       "      <td>263</td>\n",
       "      <td>38.486161</td>\n",
       "      <td>-11.155298</td>\n",
       "      <td>Ruvuma / Southern Coast</td>\n",
       "      <td>Mtwara</td>\n",
       "      <td>63</td>\n",
       "      <td>Nanyumbu</td>\n",
       "      <td>Nanyumbu</td>\n",
       "      <td>58</td>\n",
       "      <td>True</td>\n",
       "      <td>True</td>\n",
       "      <td>submersible</td>\n",
       "      <td>vwc</td>\n",
       "      <td>never pay</td>\n",
       "      <td>soft</td>\n",
       "      <td>dry</td>\n",
       "      <td>machine dbh</td>\n",
       "      <td>communal standpipe multiple</td>\n",
       "      <td>non functional</td>\n",
       "      <td>(1980, 1990]</td>\n",
       "    </tr>\n",
       "    <tr>\n",
       "      <th>4</th>\n",
       "      <td>0</td>\n",
       "      <td>31.130847</td>\n",
       "      <td>-1.825359</td>\n",
       "      <td>Lake Victoria</td>\n",
       "      <td>Kagera</td>\n",
       "      <td>1</td>\n",
       "      <td>Karagwe</td>\n",
       "      <td>Nyakasimbi</td>\n",
       "      <td>281</td>\n",
       "      <td>True</td>\n",
       "      <td>True</td>\n",
       "      <td>gravity</td>\n",
       "      <td>other</td>\n",
       "      <td>never pay</td>\n",
       "      <td>soft</td>\n",
       "      <td>seasonal</td>\n",
       "      <td>rainwater harvesting</td>\n",
       "      <td>communal standpipe</td>\n",
       "      <td>functional</td>\n",
       "      <td>(1990, 2000]</td>\n",
       "    </tr>\n",
       "  </tbody>\n",
       "</table>\n",
       "</div>"
      ],
      "text/plain": [
       "   gps_height  longitude   latitude                    basin   region  \\\n",
       "0        1390  34.938093  -9.856322               Lake Nyasa   Iringa   \n",
       "1        1399  34.698766  -2.147466            Lake Victoria     Mara   \n",
       "2         686  37.460664  -3.821329                  Pangani  Manyara   \n",
       "3         263  38.486161 -11.155298  Ruvuma / Southern Coast   Mtwara   \n",
       "4           0  31.130847  -1.825359            Lake Victoria   Kagera   \n",
       "\n",
       "   district_code        lga        ward  population  public_meeting  permit  \\\n",
       "0              5     Ludewa    Mundindi         109            True   False   \n",
       "1              2  Serengeti       Natta         280            True    True   \n",
       "2              4  Simanjiro     Ngorika         250            True    True   \n",
       "3             63   Nanyumbu    Nanyumbu          58            True    True   \n",
       "4              1    Karagwe  Nyakasimbi         281            True    True   \n",
       "\n",
       "  extraction_type_group management         payment water_quality  \\\n",
       "0               gravity        vwc    pay annually          soft   \n",
       "1               gravity        wug       never pay          soft   \n",
       "2               gravity        vwc  pay per bucket          soft   \n",
       "3           submersible        vwc       never pay          soft   \n",
       "4               gravity      other       never pay          soft   \n",
       "\n",
       "       quantity                source              waterpoint_type  \\\n",
       "0        enough                spring           communal standpipe   \n",
       "1  insufficient  rainwater harvesting           communal standpipe   \n",
       "2        enough                   dam  communal standpipe multiple   \n",
       "3           dry           machine dbh  communal standpipe multiple   \n",
       "4      seasonal  rainwater harvesting           communal standpipe   \n",
       "\n",
       "     status_group construction_year_bins  \n",
       "0      functional           (1990, 2000]  \n",
       "1      functional           (2000, 2010]  \n",
       "2      functional           (2000, 2010]  \n",
       "3  non functional           (1980, 1990]  \n",
       "4      functional           (1990, 2000]  "
      ]
     },
     "execution_count": 3,
     "metadata": {},
     "output_type": "execute_result"
    }
   ],
   "source": [
    "df.head()"
   ]
  },
  {
   "cell_type": "markdown",
   "id": "6d338e70",
   "metadata": {},
   "source": [
    "I will create a copy of the cleaned data df from the EDA notebook so as to maintain the cleaned data as it is."
   ]
  },
  {
   "cell_type": "code",
   "execution_count": 4,
   "id": "2b478a5f",
   "metadata": {},
   "outputs": [],
   "source": [
    "#create a copy of the clean df\n",
    "clean_df = df.copy()"
   ]
  },
  {
   "cell_type": "code",
   "execution_count": 5,
   "id": "c332ea0c",
   "metadata": {},
   "outputs": [
    {
     "data": {
      "text/html": [
       "<div>\n",
       "<style scoped>\n",
       "    .dataframe tbody tr th:only-of-type {\n",
       "        vertical-align: middle;\n",
       "    }\n",
       "\n",
       "    .dataframe tbody tr th {\n",
       "        vertical-align: top;\n",
       "    }\n",
       "\n",
       "    .dataframe thead th {\n",
       "        text-align: right;\n",
       "    }\n",
       "</style>\n",
       "<table border=\"1\" class=\"dataframe\">\n",
       "  <thead>\n",
       "    <tr style=\"text-align: right;\">\n",
       "      <th></th>\n",
       "      <th>gps_height</th>\n",
       "      <th>longitude</th>\n",
       "      <th>latitude</th>\n",
       "      <th>basin</th>\n",
       "      <th>region</th>\n",
       "      <th>district_code</th>\n",
       "      <th>lga</th>\n",
       "      <th>ward</th>\n",
       "      <th>population</th>\n",
       "      <th>public_meeting</th>\n",
       "      <th>permit</th>\n",
       "      <th>extraction_type_group</th>\n",
       "      <th>management</th>\n",
       "      <th>payment</th>\n",
       "      <th>water_quality</th>\n",
       "      <th>quantity</th>\n",
       "      <th>source</th>\n",
       "      <th>waterpoint_type</th>\n",
       "      <th>status_group</th>\n",
       "      <th>construction_year_bins</th>\n",
       "    </tr>\n",
       "  </thead>\n",
       "  <tbody>\n",
       "    <tr>\n",
       "      <th>0</th>\n",
       "      <td>1390</td>\n",
       "      <td>34.938093</td>\n",
       "      <td>-9.856322</td>\n",
       "      <td>Lake Nyasa</td>\n",
       "      <td>Iringa</td>\n",
       "      <td>5</td>\n",
       "      <td>Ludewa</td>\n",
       "      <td>Mundindi</td>\n",
       "      <td>109</td>\n",
       "      <td>True</td>\n",
       "      <td>False</td>\n",
       "      <td>gravity</td>\n",
       "      <td>vwc</td>\n",
       "      <td>pay annually</td>\n",
       "      <td>soft</td>\n",
       "      <td>enough</td>\n",
       "      <td>spring</td>\n",
       "      <td>communal standpipe</td>\n",
       "      <td>functional</td>\n",
       "      <td>(1990, 2000]</td>\n",
       "    </tr>\n",
       "    <tr>\n",
       "      <th>1</th>\n",
       "      <td>1399</td>\n",
       "      <td>34.698766</td>\n",
       "      <td>-2.147466</td>\n",
       "      <td>Lake Victoria</td>\n",
       "      <td>Mara</td>\n",
       "      <td>2</td>\n",
       "      <td>Serengeti</td>\n",
       "      <td>Natta</td>\n",
       "      <td>280</td>\n",
       "      <td>True</td>\n",
       "      <td>True</td>\n",
       "      <td>gravity</td>\n",
       "      <td>wug</td>\n",
       "      <td>never pay</td>\n",
       "      <td>soft</td>\n",
       "      <td>insufficient</td>\n",
       "      <td>rainwater harvesting</td>\n",
       "      <td>communal standpipe</td>\n",
       "      <td>functional</td>\n",
       "      <td>(2000, 2010]</td>\n",
       "    </tr>\n",
       "    <tr>\n",
       "      <th>2</th>\n",
       "      <td>686</td>\n",
       "      <td>37.460664</td>\n",
       "      <td>-3.821329</td>\n",
       "      <td>Pangani</td>\n",
       "      <td>Manyara</td>\n",
       "      <td>4</td>\n",
       "      <td>Simanjiro</td>\n",
       "      <td>Ngorika</td>\n",
       "      <td>250</td>\n",
       "      <td>True</td>\n",
       "      <td>True</td>\n",
       "      <td>gravity</td>\n",
       "      <td>vwc</td>\n",
       "      <td>pay per bucket</td>\n",
       "      <td>soft</td>\n",
       "      <td>enough</td>\n",
       "      <td>dam</td>\n",
       "      <td>communal standpipe multiple</td>\n",
       "      <td>functional</td>\n",
       "      <td>(2000, 2010]</td>\n",
       "    </tr>\n",
       "    <tr>\n",
       "      <th>3</th>\n",
       "      <td>263</td>\n",
       "      <td>38.486161</td>\n",
       "      <td>-11.155298</td>\n",
       "      <td>Ruvuma / Southern Coast</td>\n",
       "      <td>Mtwara</td>\n",
       "      <td>63</td>\n",
       "      <td>Nanyumbu</td>\n",
       "      <td>Nanyumbu</td>\n",
       "      <td>58</td>\n",
       "      <td>True</td>\n",
       "      <td>True</td>\n",
       "      <td>submersible</td>\n",
       "      <td>vwc</td>\n",
       "      <td>never pay</td>\n",
       "      <td>soft</td>\n",
       "      <td>dry</td>\n",
       "      <td>machine dbh</td>\n",
       "      <td>communal standpipe multiple</td>\n",
       "      <td>non functional</td>\n",
       "      <td>(1980, 1990]</td>\n",
       "    </tr>\n",
       "    <tr>\n",
       "      <th>4</th>\n",
       "      <td>0</td>\n",
       "      <td>31.130847</td>\n",
       "      <td>-1.825359</td>\n",
       "      <td>Lake Victoria</td>\n",
       "      <td>Kagera</td>\n",
       "      <td>1</td>\n",
       "      <td>Karagwe</td>\n",
       "      <td>Nyakasimbi</td>\n",
       "      <td>281</td>\n",
       "      <td>True</td>\n",
       "      <td>True</td>\n",
       "      <td>gravity</td>\n",
       "      <td>other</td>\n",
       "      <td>never pay</td>\n",
       "      <td>soft</td>\n",
       "      <td>seasonal</td>\n",
       "      <td>rainwater harvesting</td>\n",
       "      <td>communal standpipe</td>\n",
       "      <td>functional</td>\n",
       "      <td>(1990, 2000]</td>\n",
       "    </tr>\n",
       "  </tbody>\n",
       "</table>\n",
       "</div>"
      ],
      "text/plain": [
       "   gps_height  longitude   latitude                    basin   region  \\\n",
       "0        1390  34.938093  -9.856322               Lake Nyasa   Iringa   \n",
       "1        1399  34.698766  -2.147466            Lake Victoria     Mara   \n",
       "2         686  37.460664  -3.821329                  Pangani  Manyara   \n",
       "3         263  38.486161 -11.155298  Ruvuma / Southern Coast   Mtwara   \n",
       "4           0  31.130847  -1.825359            Lake Victoria   Kagera   \n",
       "\n",
       "   district_code        lga        ward  population  public_meeting  permit  \\\n",
       "0              5     Ludewa    Mundindi         109            True   False   \n",
       "1              2  Serengeti       Natta         280            True    True   \n",
       "2              4  Simanjiro     Ngorika         250            True    True   \n",
       "3             63   Nanyumbu    Nanyumbu          58            True    True   \n",
       "4              1    Karagwe  Nyakasimbi         281            True    True   \n",
       "\n",
       "  extraction_type_group management         payment water_quality  \\\n",
       "0               gravity        vwc    pay annually          soft   \n",
       "1               gravity        wug       never pay          soft   \n",
       "2               gravity        vwc  pay per bucket          soft   \n",
       "3           submersible        vwc       never pay          soft   \n",
       "4               gravity      other       never pay          soft   \n",
       "\n",
       "       quantity                source              waterpoint_type  \\\n",
       "0        enough                spring           communal standpipe   \n",
       "1  insufficient  rainwater harvesting           communal standpipe   \n",
       "2        enough                   dam  communal standpipe multiple   \n",
       "3           dry           machine dbh  communal standpipe multiple   \n",
       "4      seasonal  rainwater harvesting           communal standpipe   \n",
       "\n",
       "     status_group construction_year_bins  \n",
       "0      functional           (1990, 2000]  \n",
       "1      functional           (2000, 2010]  \n",
       "2      functional           (2000, 2010]  \n",
       "3  non functional           (1980, 1990]  \n",
       "4      functional           (1990, 2000]  "
      ]
     },
     "execution_count": 5,
     "metadata": {},
     "output_type": "execute_result"
    }
   ],
   "source": [
    "clean_df.head()"
   ]
  },
  {
   "cell_type": "markdown",
   "id": "382042c9",
   "metadata": {},
   "source": [
    "#### Converting Target variable to numerical variables of 0,1,2"
   ]
  },
  {
   "cell_type": "markdown",
   "id": "e15d2b8f",
   "metadata": {},
   "source": [
    "We need to convert our target variable from strings of (functional, non functional, functional needs repair) to 0,1 and 2 values in order to make our model"
   ]
  },
  {
   "cell_type": "code",
   "execution_count": 6,
   "id": "5ab8a8a3",
   "metadata": {},
   "outputs": [],
   "source": [
    "target_variable = {'functional':0, \n",
    "                   'non functional': 2, \n",
    "                   'functional needs repair': 1} \n",
    "clean_df['status_group'] = clean_df['status_group'].replace(target_variable)"
   ]
  },
  {
   "cell_type": "code",
   "execution_count": 7,
   "id": "7136fd3d",
   "metadata": {},
   "outputs": [
    {
     "data": {
      "text/plain": [
       "0    32259\n",
       "2    22824\n",
       "1     4317\n",
       "Name: status_group, dtype: int64"
      ]
     },
     "execution_count": 7,
     "metadata": {},
     "output_type": "execute_result"
    }
   ],
   "source": [
    "clean_df['status_group'].value_counts()"
   ]
  },
  {
   "cell_type": "markdown",
   "id": "93f7541a",
   "metadata": {},
   "source": [
    "- 0 = functional water points ,\n",
    "\n",
    "- 2 = non-functinal water point\n",
    "\n",
    "- 1 = functional but needs repair water points,\n",
    "\n"
   ]
  },
  {
   "cell_type": "markdown",
   "id": "1f677c13",
   "metadata": {},
   "source": [
    "I will drop Iga and ward columns since we have region column with similar information"
   ]
  },
  {
   "cell_type": "code",
   "execution_count": 8,
   "id": "1bee595c",
   "metadata": {},
   "outputs": [],
   "source": [
    "#drop Iga and ward columns since we have region column with similar information\n",
    "clean_df.drop(columns=['lga','ward'],inplace=True ) "
   ]
  },
  {
   "cell_type": "markdown",
   "id": "895bfea9",
   "metadata": {},
   "source": [
    "#### converting boolean type column of true or false values to 0 and 1"
   ]
  },
  {
   "cell_type": "code",
   "execution_count": 9,
   "id": "4bae33e2",
   "metadata": {},
   "outputs": [],
   "source": [
    "#convert True/False in permit column to 0-1(boolean to int)\n",
    "clean_df['permit'] =clean_df['permit'].astype(bool).astype(int) "
   ]
  },
  {
   "cell_type": "code",
   "execution_count": 10,
   "id": "37d3309e",
   "metadata": {},
   "outputs": [],
   "source": [
    "#convert True/False in public meeting column to 0-1(boolean to int)\n",
    "clean_df['public_meeting'] = clean_df['public_meeting'].astype(bool).astype(int)"
   ]
  },
  {
   "cell_type": "markdown",
   "id": "24695fec",
   "metadata": {},
   "source": [
    "#### Dividing all the features in categorical and numerical features and give them variables"
   ]
  },
  {
   "cell_type": "markdown",
   "id": "1e91cf73",
   "metadata": {},
   "source": [
    "I will divide my features into two categories i.e `numerical_variables` to be scaled using scaler and `categorical_variables` to be  encoded using encoder"
   ]
  },
  {
   "cell_type": "code",
   "execution_count": 11,
   "id": "4108994b",
   "metadata": {},
   "outputs": [],
   "source": [
    "# numerical features placed in a variable \n",
    "numerical_variables = ['gps_height','longitude','latitude','district_code','population','public_meeting','permit'] "
   ]
  },
  {
   "cell_type": "code",
   "execution_count": 12,
   "id": "0c0216e5",
   "metadata": {},
   "outputs": [],
   "source": [
    "# categorical features placed in a variable  \n",
    "categorical_variables = ['basin','region','extraction_type_group','management','payment','water_quality','quantity',\n",
    "               'source','waterpoint_type','construction_year_bins']"
   ]
  },
  {
   "cell_type": "markdown",
   "id": "a35aca07",
   "metadata": {},
   "source": [
    "### Converting Target Ternary classes to Target Binary classes"
   ]
  },
  {
   "cell_type": "markdown",
   "id": "8f299cae",
   "metadata": {},
   "source": [
    "I will convert my target variable from having three classes to having two classes. I will combine functional water points with water points that are functional needs repair as 1. I will make non functional water points to be 0"
   ]
  },
  {
   "cell_type": "code",
   "execution_count": 13,
   "id": "eb589f5e",
   "metadata": {},
   "outputs": [],
   "source": [
    "# convert ternary classes to binary class\n",
    "status_group_dict = {0:1, 1: 1, 2 : 0}\n",
    "clean_df['status_group'] = clean_df['status_group'].replace(status_group_dict )"
   ]
  },
  {
   "cell_type": "code",
   "execution_count": 14,
   "id": "8be0d27d",
   "metadata": {},
   "outputs": [
    {
     "data": {
      "text/plain": [
       "1    36576\n",
       "0    22824\n",
       "Name: status_group, dtype: int64"
      ]
     },
     "execution_count": 14,
     "metadata": {},
     "output_type": "execute_result"
    }
   ],
   "source": [
    "#print the status group value count\n",
    "clean_df['status_group'].value_counts()"
   ]
  },
  {
   "cell_type": "markdown",
   "id": "5d7c1272",
   "metadata": {},
   "source": [
    "Now we have two categories to be predicted(binary)\n",
    "- 1 = functional water points ,\n",
    "\n",
    "- 0 = non-functinal water point\n",
    "\n",
    "\n"
   ]
  },
  {
   "cell_type": "markdown",
   "id": "d0985eb0",
   "metadata": {},
   "source": [
    "### Making Pipeline"
   ]
  },
  {
   "cell_type": "markdown",
   "id": "b5c2fd01",
   "metadata": {},
   "source": [
    "Dividing the data into x(predictive_features) and y(target feature)"
   ]
  },
  {
   "cell_type": "code",
   "execution_count": 15,
   "id": "b418592e",
   "metadata": {},
   "outputs": [],
   "source": [
    "# create the target variable and the predictors in form of x and y\n",
    "y = clean_df['status_group']\n",
    "X = clean_df.drop('status_group', axis=1)\n",
    "\n"
   ]
  },
  {
   "cell_type": "markdown",
   "id": "cbeb3dc2",
   "metadata": {},
   "source": [
    "Dividing the data into training and testing data"
   ]
  },
  {
   "cell_type": "code",
   "execution_count": 16,
   "id": "01189b6f",
   "metadata": {},
   "outputs": [],
   "source": [
    "# to divide our X and y to test and train\n",
    "X_train, X_test, y_train, y_test = train_test_split(X, y, test_size=0.2, random_state=42)"
   ]
  },
  {
   "cell_type": "markdown",
   "id": "54b6a6d1",
   "metadata": {},
   "source": [
    "### MODEL 1: Logistic Regression Model with TargetEncoder and RobustScaler()"
   ]
  },
  {
   "cell_type": "markdown",
   "id": "6f6f9f7c",
   "metadata": {},
   "source": [
    "Predictive features that are categorical need to be encoded to int. For this model i will use TargetEncoder since most of my categorical data has many categories thus target encoder encode the categories into int by replacing them for a measurement of the effect they might have on the target.\n",
    "There is also need to standardize the numerical features. I will use RobustScaler which uses Interquatile range to remove outliers and standadize my data. "
   ]
  },
  {
   "cell_type": "code",
   "execution_count": 17,
   "id": "e06a61cb",
   "metadata": {},
   "outputs": [],
   "source": [
    "# Giving the robustScaler and TargetEncoder a variable.\n",
    "scaler = RobustScaler()\n",
    "encoder = ce.TargetEncoder(cols=categorical_variables)"
   ]
  },
  {
   "cell_type": "markdown",
   "id": "439f39dc",
   "metadata": {},
   "source": [
    "The make_pipeline function will be automatically applied scaler, encoder, and our model to the pipe in order to fit it very easily."
   ]
  },
  {
   "cell_type": "code",
   "execution_count": 18,
   "id": "e36f0dc3",
   "metadata": {},
   "outputs": [],
   "source": [
    "# putting numeric columns to scaler and categorical to encoder\n",
    "num_transformer = make_pipeline(scaler)\n",
    "cat_transformer = make_pipeline(encoder)"
   ]
  },
  {
   "cell_type": "code",
   "execution_count": 19,
   "id": "a77b1a07",
   "metadata": {},
   "outputs": [],
   "source": [
    "# getting together our scaler and encoder with preprocessor\n",
    "preprocessor = ColumnTransformer(\n",
    "      transformers=[('num', num_transformer, numerical_variables),\n",
    "                    ('cat', cat_transformer, categorical_variables)])\n"
   ]
  },
  {
   "cell_type": "code",
   "execution_count": 20,
   "id": "d32bb83f",
   "metadata": {},
   "outputs": [],
   "source": [
    "lr = LogisticRegression(class_weight = 'balanced', solver = 'lbfgs', random_state=42)"
   ]
  },
  {
   "cell_type": "code",
   "execution_count": 21,
   "id": "8641180f",
   "metadata": {},
   "outputs": [
    {
     "name": "stdout",
     "output_type": "stream",
     "text": [
      "Accuracy:\n",
      "TRAIN: 0.7640572390572391\n",
      "TEST: 0.7692760942760942\n",
      "\n",
      "Balanced Accuracy:\n",
      "TRAIN: 0.7418625912097385\n",
      "TEST: 0.7463425907968401\n"
     ]
    }
   ],
   "source": [
    "# giving all values to pipeline\n",
    "pipe = make_pipeline(preprocessor,lr)\n",
    "pipe.fit(X_train, y_train)\n",
    "\n",
    "# make predictions on training set\n",
    "y_pred = pipe.predict(X_train)\n",
    "\n",
    "# make predictions on test set\n",
    "y_pred_test = pipe.predict(X_test)\n",
    "\n",
    "print(\"Accuracy:\")\n",
    "print(f\"TRAIN: {accuracy_score(y_train, y_pred)}\")\n",
    "print(f\"TEST: {accuracy_score(y_test, y_pred_test)}\")\n",
    "\n",
    "print(\"\\nBalanced Accuracy:\")\n",
    "print(f\"TRAIN: {balanced_accuracy_score(y_train, y_pred)}\")\n",
    "print(f\"TEST: {balanced_accuracy_score(y_test, y_pred_test)}\")"
   ]
  },
  {
   "cell_type": "code",
   "execution_count": 22,
   "id": "66c28765",
   "metadata": {},
   "outputs": [
    {
     "data": {
      "image/png": "[encoded data removed]",
      "text/plain": [
       "<Figure size 432x288 with 1 Axes>"
      ]
     },
     "metadata": {
      "needs_background": "light"
     },
     "output_type": "display_data"
    }
   ],
   "source": [
    "# to plot and understand confusion matrix\n",
    "cm = confusion_matrix(y_test, y_pred_test)\n",
    "plot_confusion_matrix(cm)\n",
    "plt.show()"
   ]
  },
  {
   "cell_type": "markdown",
   "id": "aa5eb734",
   "metadata": {},
   "source": [
    "The confusion matrix above shows that 1126 water points were misclassified as non-functional water points instead of functional waterpoints. Also, 1615 water points were misclassified as functional water points instead of non-functional water points. "
   ]
  },
  {
   "cell_type": "markdown",
   "id": "cb296e2b",
   "metadata": {},
   "source": [
    "Now, I will take the roc_auc score with doing LogReg with cross validation to compare With other model results. I choose cv as 5, since it gives 5 different results for each trial and gets their mean as the cross_val_score. Cross_val_score gives more accurate results. I will be using both of them just to see the difference. "
   ]
  },
  {
   "cell_type": "code",
   "execution_count": 23,
   "id": "6661dd9b",
   "metadata": {},
   "outputs": [
    {
     "name": "stdout",
     "output_type": "stream",
     "text": [
      "0.8251027405196286\n"
     ]
    }
   ],
   "source": [
    "scores = cross_val_score(pipe, X, y, cv=5, scoring='roc_auc')\n",
    "print(scores.mean()) "
   ]
  },
  {
   "cell_type": "markdown",
   "id": "e81a4fbf",
   "metadata": {},
   "source": [
    "Instead of train-test splits, I prefer cross validation which is more accurate. It splits the train-test 5 times and finds the mean. Observation -It takes more time than train-test split."
   ]
  },
  {
   "cell_type": "markdown",
   "id": "7dd5496e",
   "metadata": {},
   "source": [
    "I will create a dataFrame to store the results of all the models for easy comparison. creating an empty dataframe to write our results on it to keep when parameters and models changed."
   ]
  },
  {
   "cell_type": "code",
   "execution_count": 24,
   "id": "31a91131",
   "metadata": {},
   "outputs": [],
   "source": [
    "# an empty data frmae to see all results\n",
    "df_results = pd.DataFrame(columns=[\"Model\", \"Scaler\",'Encoder',\n",
    "                                   'roc_auc score ']) "
   ]
  },
  {
   "cell_type": "code",
   "execution_count": 25,
   "id": "2a30c879",
   "metadata": {},
   "outputs": [],
   "source": [
    "df_results = df_results.append({       \n",
    "     \"Model\": 'LogReg_1' ,\n",
    "      \"Scaler\": 'Robust' , \n",
    "       'Encoder' : 'TargetEncoder',\n",
    "               'roc_auc score ' :0.8251027405196286\n",
    "                    }, ignore_index=True)"
   ]
  },
  {
   "cell_type": "code",
   "execution_count": 26,
   "id": "31ac2b71",
   "metadata": {},
   "outputs": [
    {
     "data": {
      "text/html": [
       "<div>\n",
       "<style scoped>\n",
       "    .dataframe tbody tr th:only-of-type {\n",
       "        vertical-align: middle;\n",
       "    }\n",
       "\n",
       "    .dataframe tbody tr th {\n",
       "        vertical-align: top;\n",
       "    }\n",
       "\n",
       "    .dataframe thead th {\n",
       "        text-align: right;\n",
       "    }\n",
       "</style>\n",
       "<table border=\"1\" class=\"dataframe\">\n",
       "  <thead>\n",
       "    <tr style=\"text-align: right;\">\n",
       "      <th></th>\n",
       "      <th>Model</th>\n",
       "      <th>Scaler</th>\n",
       "      <th>Encoder</th>\n",
       "      <th>roc_auc score</th>\n",
       "    </tr>\n",
       "  </thead>\n",
       "  <tbody>\n",
       "    <tr>\n",
       "      <th>0</th>\n",
       "      <td>LogReg_1</td>\n",
       "      <td>Robust</td>\n",
       "      <td>TargetEncoder</td>\n",
       "      <td>0.825103</td>\n",
       "    </tr>\n",
       "  </tbody>\n",
       "</table>\n",
       "</div>"
      ],
      "text/plain": [
       "      Model  Scaler        Encoder roc_auc score \n",
       "0  LogReg_1  Robust  TargetEncoder       0.825103"
      ]
     },
     "execution_count": 26,
     "metadata": {},
     "output_type": "execute_result"
    }
   ],
   "source": [
    "df_results"
   ]
  },
  {
   "cell_type": "markdown",
   "id": "b7937aa5",
   "metadata": {},
   "source": [
    "### MODEL 2: Logistic Regression Model with OneHot Encoder and MinMaxScaler()"
   ]
  },
  {
   "cell_type": "markdown",
   "id": "6c194ec8",
   "metadata": {},
   "source": [
    "For my second model I will be changing the scaler and encoder just to make a comparison of the best scaler and encoder to use for this problrm."
   ]
  },
  {
   "cell_type": "code",
   "execution_count": 27,
   "id": "121c9744",
   "metadata": {},
   "outputs": [],
   "source": [
    "scaler = MinMaxScaler()\n",
    "encoder = ce.OneHotEncoder(cols=categorical_variables)"
   ]
  },
  {
   "cell_type": "code",
   "execution_count": 28,
   "id": "32c63076",
   "metadata": {},
   "outputs": [
    {
     "name": "stdout",
     "output_type": "stream",
     "text": [
      "Accuracy:\n",
      "TRAIN: 0.784006734006734\n",
      "TEST: 0.7821548821548822\n",
      "\n",
      "Balanced Accuracy:\n",
      "TRAIN: 0.7682344673545355\n",
      "TEST: 0.7651629753177405\n"
     ]
    }
   ],
   "source": [
    "num_transformer = make_pipeline(scaler)\n",
    "cat_transformer = make_pipeline(encoder)\n",
    "\n",
    "# getting together our scaler and encoder with preprocessor\n",
    "preprocessor = ColumnTransformer(\n",
    "      transformers=[('num', num_transformer, numerical_variables),\n",
    "                    ('cat', cat_transformer, categorical_variables)])\n",
    "\n",
    "\n",
    "# giving all values to pipeline\n",
    "pipe = make_pipeline(preprocessor,lr)\n",
    "pipe.fit(X_train, y_train)\n",
    "\n",
    "# make predictions on training set\n",
    "y_pred = pipe.predict(X_train)\n",
    "\n",
    "# make predictions on test set\n",
    "y_pred_test = pipe.predict(X_test)\n",
    "\n",
    "print(\"Accuracy:\")\n",
    "print(f\"TRAIN: {accuracy_score(y_train, y_pred)}\")\n",
    "print(f\"TEST: {accuracy_score(y_test, y_pred_test)}\")\n",
    "\n",
    "print(\"\\nBalanced Accuracy:\")\n",
    "print(f\"TRAIN: {balanced_accuracy_score(y_train, y_pred)}\")\n",
    "print(f\"TEST: {balanced_accuracy_score(y_test, y_pred_test)}\")"
   ]
  },
  {
   "cell_type": "code",
   "execution_count": 29,
   "id": "d8bd5078",
   "metadata": {},
   "outputs": [
    {
     "data": {
      "image/png": "[encoded data removed]",
      "text/plain": [
       "<Figure size 432x288 with 1 Axes>"
      ]
     },
     "metadata": {
      "needs_background": "light"
     },
     "output_type": "display_data"
    }
   ],
   "source": [
    "# to plot and understand confusion matrix\n",
    "cm = confusion_matrix(y_test, y_pred_test)\n",
    "plot_confusion_matrix(cm)\n",
    "plt.show()"
   ]
  },
  {
   "cell_type": "code",
   "execution_count": 30,
   "id": "45e45998",
   "metadata": {},
   "outputs": [
    {
     "name": "stdout",
     "output_type": "stream",
     "text": [
      "0.8469125878894046\n"
     ]
    }
   ],
   "source": [
    "scores = cross_val_score(pipe, X, y, cv=5, scoring='roc_auc')\n",
    "print(scores.mean(),)"
   ]
  },
  {
   "cell_type": "code",
   "execution_count": 31,
   "id": "c7cbbd70",
   "metadata": {},
   "outputs": [],
   "source": [
    "df_results = df_results.append({       \n",
    "     \"Model\": 'LogReg_2' ,\n",
    "      \"Scaler\": 'MinMaxScaler()' , \n",
    "       'Encoder' : 'OneHotEncoder',\n",
    "               'roc_auc score ' :0.8469125878894046\n",
    "                    }, ignore_index=True)"
   ]
  },
  {
   "cell_type": "code",
   "execution_count": 32,
   "id": "32567b10",
   "metadata": {},
   "outputs": [
    {
     "data": {
      "text/html": [
       "<div>\n",
       "<style scoped>\n",
       "    .dataframe tbody tr th:only-of-type {\n",
       "        vertical-align: middle;\n",
       "    }\n",
       "\n",
       "    .dataframe tbody tr th {\n",
       "        vertical-align: top;\n",
       "    }\n",
       "\n",
       "    .dataframe thead th {\n",
       "        text-align: right;\n",
       "    }\n",
       "</style>\n",
       "<table border=\"1\" class=\"dataframe\">\n",
       "  <thead>\n",
       "    <tr style=\"text-align: right;\">\n",
       "      <th></th>\n",
       "      <th>Model</th>\n",
       "      <th>Scaler</th>\n",
       "      <th>Encoder</th>\n",
       "      <th>roc_auc score</th>\n",
       "    </tr>\n",
       "  </thead>\n",
       "  <tbody>\n",
       "    <tr>\n",
       "      <th>0</th>\n",
       "      <td>LogReg_1</td>\n",
       "      <td>Robust</td>\n",
       "      <td>TargetEncoder</td>\n",
       "      <td>0.825103</td>\n",
       "    </tr>\n",
       "    <tr>\n",
       "      <th>1</th>\n",
       "      <td>LogReg_2</td>\n",
       "      <td>MinMaxScaler()</td>\n",
       "      <td>OneHotEncoder</td>\n",
       "      <td>0.846913</td>\n",
       "    </tr>\n",
       "  </tbody>\n",
       "</table>\n",
       "</div>"
      ],
      "text/plain": [
       "      Model          Scaler        Encoder roc_auc score \n",
       "0  LogReg_1          Robust  TargetEncoder       0.825103\n",
       "1  LogReg_2  MinMaxScaler()  OneHotEncoder       0.846913"
      ]
     },
     "execution_count": 32,
     "metadata": {},
     "output_type": "execute_result"
    }
   ],
   "source": [
    "df_results"
   ]
  },
  {
   "cell_type": "markdown",
   "id": "50e53d8e",
   "metadata": {},
   "source": [
    "From our dataFrame above one-hot encoder gives the best value for roc_auc score. One-hot encoder though it gives the best results it takes to much time to run the model."
   ]
  },
  {
   "cell_type": "markdown",
   "id": "78974d60",
   "metadata": {},
   "source": [
    "### MODEL 3: Decision Tree Classifier"
   ]
  },
  {
   "cell_type": "markdown",
   "id": "6661a1f9",
   "metadata": {},
   "source": [
    "For this model i will be trying a new model just to try and improve the roc-auc score from the logistic regression. To improve the score i will try Decision Tree Classifier first.\n",
    " "
   ]
  },
  {
   "cell_type": "code",
   "execution_count": 33,
   "id": "620c3d04",
   "metadata": {},
   "outputs": [],
   "source": [
    "# define a decision tre with parametere.\n",
    "dt = DecisionTreeClassifier(criterion='entropy', max_depth=4, min_samples_leaf=5, \n",
    "                            random_state=42, class_weight='balanced')"
   ]
  },
  {
   "cell_type": "code",
   "execution_count": 34,
   "id": "1d7a99f9",
   "metadata": {},
   "outputs": [
    {
     "name": "stdout",
     "output_type": "stream",
     "text": [
      "Accuracy:\n",
      "TRAIN: 0.7698863636363636\n",
      "TEST: 0.7661616161616162\n",
      "\n",
      "Balanced Accuracy:\n",
      "TRAIN: 0.7145385876935693\n",
      "TEST: 0.7109337625900211\n"
     ]
    }
   ],
   "source": [
    "pipe = make_pipeline(preprocessor,dt)\n",
    "pipe.fit(X_train, y_train)\n",
    "\n",
    "# make predictions on training set\n",
    "y_pred = pipe.predict(X_train)\n",
    "\n",
    "# make predictions on test set\n",
    "y_pred_test = pipe.predict(X_test)\n",
    "\n",
    "print(\"Accuracy:\")\n",
    "print(f\"TRAIN: {accuracy_score(y_train, y_pred)}\")\n",
    "print(f\"TEST: {accuracy_score(y_test, y_pred_test)}\")\n",
    "\n",
    "print(\"\\nBalanced Accuracy:\")\n",
    "print(f\"TRAIN: {balanced_accuracy_score(y_train, y_pred)}\")\n",
    "print(f\"TEST: {balanced_accuracy_score(y_test, y_pred_test)}\")"
   ]
  },
  {
   "cell_type": "code",
   "execution_count": 35,
   "id": "67ffb90c",
   "metadata": {},
   "outputs": [
    {
     "data": {
      "image/png": "[encoded data removed]",
      "text/plain": [
       "<Figure size 432x288 with 1 Axes>"
      ]
     },
     "metadata": {
      "needs_background": "light"
     },
     "output_type": "display_data"
    }
   ],
   "source": [
    "# to plot and understand confusion matrix\n",
    "cm = confusion_matrix(y_test, y_pred_test)\n",
    "plot_confusion_matrix(cm)\n",
    "plt.show()"
   ]
  },
  {
   "cell_type": "code",
   "execution_count": 36,
   "id": "84bb1c8e",
   "metadata": {},
   "outputs": [
    {
     "name": "stdout",
     "output_type": "stream",
     "text": [
      "0.7633377108064654\n"
     ]
    }
   ],
   "source": [
    "scores = cross_val_score(pipe, X, y, cv=5, scoring='roc_auc')\n",
    "print(scores.mean())"
   ]
  },
  {
   "cell_type": "code",
   "execution_count": 37,
   "id": "215d4baa",
   "metadata": {},
   "outputs": [],
   "source": [
    "df_results = df_results.append({       \n",
    "     \"Model\": 'DecisionTree' ,\n",
    "      \"Scaler\": 'MinMaxScaler()' , \n",
    "       'Encoder' : 'OneHotEncoder',\n",
    "               'roc_auc score ' :0.7633377108064654\n",
    "                    }, ignore_index=True)"
   ]
  },
  {
   "cell_type": "code",
   "execution_count": 38,
   "id": "0ed3f045",
   "metadata": {},
   "outputs": [
    {
     "data": {
      "text/html": [
       "<div>\n",
       "<style scoped>\n",
       "    .dataframe tbody tr th:only-of-type {\n",
       "        vertical-align: middle;\n",
       "    }\n",
       "\n",
       "    .dataframe tbody tr th {\n",
       "        vertical-align: top;\n",
       "    }\n",
       "\n",
       "    .dataframe thead th {\n",
       "        text-align: right;\n",
       "    }\n",
       "</style>\n",
       "<table border=\"1\" class=\"dataframe\">\n",
       "  <thead>\n",
       "    <tr style=\"text-align: right;\">\n",
       "      <th></th>\n",
       "      <th>Model</th>\n",
       "      <th>Scaler</th>\n",
       "      <th>Encoder</th>\n",
       "      <th>roc_auc score</th>\n",
       "    </tr>\n",
       "  </thead>\n",
       "  <tbody>\n",
       "    <tr>\n",
       "      <th>0</th>\n",
       "      <td>LogReg_1</td>\n",
       "      <td>Robust</td>\n",
       "      <td>TargetEncoder</td>\n",
       "      <td>0.825103</td>\n",
       "    </tr>\n",
       "    <tr>\n",
       "      <th>1</th>\n",
       "      <td>LogReg_2</td>\n",
       "      <td>MinMaxScaler()</td>\n",
       "      <td>OneHotEncoder</td>\n",
       "      <td>0.846913</td>\n",
       "    </tr>\n",
       "    <tr>\n",
       "      <th>2</th>\n",
       "      <td>DecisionTree</td>\n",
       "      <td>MinMaxScaler()</td>\n",
       "      <td>OneHotEncoder</td>\n",
       "      <td>0.763338</td>\n",
       "    </tr>\n",
       "  </tbody>\n",
       "</table>\n",
       "</div>"
      ],
      "text/plain": [
       "          Model          Scaler        Encoder roc_auc score \n",
       "0      LogReg_1          Robust  TargetEncoder       0.825103\n",
       "1      LogReg_2  MinMaxScaler()  OneHotEncoder       0.846913\n",
       "2  DecisionTree  MinMaxScaler()  OneHotEncoder       0.763338"
      ]
     },
     "execution_count": 38,
     "metadata": {},
     "output_type": "execute_result"
    }
   ],
   "source": [
    "df_results"
   ]
  },
  {
   "cell_type": "markdown",
   "id": "92ae5a51",
   "metadata": {},
   "source": [
    "Decision Tree Classifier reduced the roc_auc score from 84% to 76%."
   ]
  },
  {
   "cell_type": "markdown",
   "id": "6309de0f",
   "metadata": {},
   "source": [
    "### MODEL 4: RandomForest Classifier"
   ]
  },
  {
   "cell_type": "markdown",
   "id": "5457ffd0",
   "metadata": {},
   "source": [
    "I will change the model again to try and see if RandomForest Classifier works well for this problem as compared to both Logistics classifier and Decision Tree classifier.\n",
    "Random forest models can reduce overfitting risk by randomness as building n_estimators, bootstrapping sample and splitting nodes on the best split among a random subset of the features selected at every node and converting non-homogeneous node into best possibles. "
   ]
  },
  {
   "cell_type": "code",
   "execution_count": 39,
   "id": "3d8a9e2a",
   "metadata": {},
   "outputs": [],
   "source": [
    "rf = RandomForestClassifier(n_estimators=50, random_state=42, n_jobs=-1,class_weight='balanced')"
   ]
  },
  {
   "cell_type": "code",
   "execution_count": 40,
   "id": "18f8fd4f",
   "metadata": {},
   "outputs": [
    {
     "name": "stdout",
     "output_type": "stream",
     "text": [
      "Accuracy:\n",
      "TRAIN: 0.9982112794612794\n",
      "TEST: 0.8552188552188552\n",
      "\n",
      "Balanced Accuracy:\n",
      "TRAIN: 0.998083918215908\n",
      "TEST: 0.8402721211572691\n"
     ]
    }
   ],
   "source": [
    "pipe = make_pipeline(preprocessor,rf)\n",
    "pipe.fit(X_train, y_train)\n",
    "\n",
    "# make predictions on training set\n",
    "y_pred = pipe.predict(X_train)\n",
    "\n",
    "# make predictions on test set\n",
    "y_pred_test = pipe.predict(X_test)\n",
    "\n",
    "print(\"Accuracy:\")\n",
    "print(f\"TRAIN: {accuracy_score(y_train, y_pred)}\")\n",
    "print(f\"TEST: {accuracy_score(y_test, y_pred_test)}\")\n",
    "\n",
    "print(\"\\nBalanced Accuracy:\")\n",
    "print(f\"TRAIN: {balanced_accuracy_score(y_train, y_pred)}\")\n",
    "print(f\"TEST: {balanced_accuracy_score(y_test, y_pred_test)}\")\n",
    "\n"
   ]
  },
  {
   "cell_type": "code",
   "execution_count": 41,
   "id": "cc8dd774",
   "metadata": {},
   "outputs": [
    {
     "data": {
      "image/png": "[encoded data removed]",
      "text/plain": [
       "<Figure size 432x288 with 1 Axes>"
      ]
     },
     "metadata": {
      "needs_background": "light"
     },
     "output_type": "display_data"
    }
   ],
   "source": [
    "# to plot and understand confusion matrix\n",
    "cm = confusion_matrix(y_test, y_pred_test)\n",
    "plot_confusion_matrix(cm)\n",
    "plt.show()"
   ]
  },
  {
   "cell_type": "code",
   "execution_count": 42,
   "id": "406f2468",
   "metadata": {},
   "outputs": [
    {
     "name": "stdout",
     "output_type": "stream",
     "text": [
      "0.9168410558868798\n"
     ]
    }
   ],
   "source": [
    "scores = cross_val_score(pipe, X, y, cv=5, scoring='roc_auc')\n",
    "print(scores.mean())"
   ]
  },
  {
   "cell_type": "code",
   "execution_count": 43,
   "id": "ca25e436",
   "metadata": {},
   "outputs": [],
   "source": [
    "df_results = df_results.append({       \n",
    "     \"Model\": 'RandomForest' ,\n",
    "      \"Scaler\": 'MinMaxScaler()' , \n",
    "       'Encoder' : 'OneHotEncoder',\n",
    "               'roc_auc score ' :0.9168410558868798\n",
    "                    }, ignore_index=True)"
   ]
  },
  {
   "cell_type": "code",
   "execution_count": 44,
   "id": "aa510cfd",
   "metadata": {},
   "outputs": [
    {
     "data": {
      "text/html": [
       "<div>\n",
       "<style scoped>\n",
       "    .dataframe tbody tr th:only-of-type {\n",
       "        vertical-align: middle;\n",
       "    }\n",
       "\n",
       "    .dataframe tbody tr th {\n",
       "        vertical-align: top;\n",
       "    }\n",
       "\n",
       "    .dataframe thead th {\n",
       "        text-align: right;\n",
       "    }\n",
       "</style>\n",
       "<table border=\"1\" class=\"dataframe\">\n",
       "  <thead>\n",
       "    <tr style=\"text-align: right;\">\n",
       "      <th></th>\n",
       "      <th>Model</th>\n",
       "      <th>Scaler</th>\n",
       "      <th>Encoder</th>\n",
       "      <th>roc_auc score</th>\n",
       "    </tr>\n",
       "  </thead>\n",
       "  <tbody>\n",
       "    <tr>\n",
       "      <th>0</th>\n",
       "      <td>LogReg_1</td>\n",
       "      <td>Robust</td>\n",
       "      <td>TargetEncoder</td>\n",
       "      <td>0.825103</td>\n",
       "    </tr>\n",
       "    <tr>\n",
       "      <th>1</th>\n",
       "      <td>LogReg_2</td>\n",
       "      <td>MinMaxScaler()</td>\n",
       "      <td>OneHotEncoder</td>\n",
       "      <td>0.846913</td>\n",
       "    </tr>\n",
       "    <tr>\n",
       "      <th>2</th>\n",
       "      <td>DecisionTree</td>\n",
       "      <td>MinMaxScaler()</td>\n",
       "      <td>OneHotEncoder</td>\n",
       "      <td>0.763338</td>\n",
       "    </tr>\n",
       "    <tr>\n",
       "      <th>3</th>\n",
       "      <td>RandomForest</td>\n",
       "      <td>MinMaxScaler()</td>\n",
       "      <td>OneHotEncoder</td>\n",
       "      <td>0.916841</td>\n",
       "    </tr>\n",
       "  </tbody>\n",
       "</table>\n",
       "</div>"
      ],
      "text/plain": [
       "          Model          Scaler        Encoder roc_auc score \n",
       "0      LogReg_1          Robust  TargetEncoder       0.825103\n",
       "1      LogReg_2  MinMaxScaler()  OneHotEncoder       0.846913\n",
       "2  DecisionTree  MinMaxScaler()  OneHotEncoder       0.763338\n",
       "3  RandomForest  MinMaxScaler()  OneHotEncoder       0.916841"
      ]
     },
     "execution_count": 44,
     "metadata": {},
     "output_type": "execute_result"
    }
   ],
   "source": [
    "df_results"
   ]
  },
  {
   "cell_type": "markdown",
   "id": "bad81b97",
   "metadata": {},
   "source": [
    " Random forest model gives the best reults so far of 91 %. "
   ]
  },
  {
   "cell_type": "markdown",
   "id": "4ef81fd7",
   "metadata": {},
   "source": [
    "### MODEL 5: K-NearestNeighbors  Classifier"
   ]
  },
  {
   "cell_type": "markdown",
   "id": "22bff419",
   "metadata": {},
   "source": [
    "I will try K-NearestNeighbors Classifier as my last model before tuning my best model of the 5 models. \n",
    "The general principle of k-Neighbors is to find closest in distance of the new point to predefined number of training points and predict the label according to this. First we tried this model without any parameter tuning."
   ]
  },
  {
   "cell_type": "code",
   "execution_count": 52,
   "id": "7949e7c2",
   "metadata": {},
   "outputs": [],
   "source": [
    "knn = KNeighborsClassifier(metric='manhattan', n_neighbors=5, weights='distance')"
   ]
  },
  {
   "cell_type": "code",
   "execution_count": 53,
   "id": "bdd27e94",
   "metadata": {},
   "outputs": [
    {
     "name": "stdout",
     "output_type": "stream",
     "text": [
      "Accuracy:\n",
      "TRAIN: 0.9985690235690236\n",
      "TEST: 0.8402356902356902\n",
      "\n",
      "Balanced Accuracy:\n",
      "TRAIN: 0.9983434055247851\n",
      "TEST: 0.823344280240832\n"
     ]
    }
   ],
   "source": [
    "pipe = make_pipeline(preprocessor,knn)\n",
    "pipe.fit(X_train, y_train)\n",
    "\n",
    "# make predictions on training set\n",
    "y_pred = pipe.predict(X_train)\n",
    "\n",
    "# make predictions on test set\n",
    "y_pred_test = pipe.predict(X_test)\n",
    "\n",
    "print(\"Accuracy:\")\n",
    "print(f\"TRAIN: {accuracy_score(y_train, y_pred)}\")\n",
    "print(f\"TEST: {accuracy_score(y_test, y_pred_test)}\")\n",
    "\n",
    "print(\"\\nBalanced Accuracy:\")\n",
    "print(f\"TRAIN: {balanced_accuracy_score(y_train, y_pred)}\")\n",
    "print(f\"TEST: {balanced_accuracy_score(y_test, y_pred_test)}\")"
   ]
  },
  {
   "cell_type": "code",
   "execution_count": 55,
   "id": "3186357b",
   "metadata": {},
   "outputs": [
    {
     "name": "stdout",
     "output_type": "stream",
     "text": [
      "0.8990328312963299\n"
     ]
    }
   ],
   "source": [
    "scores = cross_val_score(pipe, X, y, cv=5, scoring='roc_auc')\n",
    "print(scores.mean())"
   ]
  },
  {
   "cell_type": "code",
   "execution_count": 58,
   "id": "ba033b2d",
   "metadata": {},
   "outputs": [],
   "source": [
    "df_results = df_results.append({       \n",
    "     \"Model\": 'KNN' ,\n",
    "      \"Scaler\": 'Robust' , \n",
    "       'Encoder' : 'OneHotEncoder',\n",
    "               'roc_auc score ' :0.8990328312963299\n",
    "                    }, ignore_index=True)"
   ]
  },
  {
   "cell_type": "code",
   "execution_count": null,
   "id": "ddd4b503",
   "metadata": {},
   "outputs": [
    {
     "data": {
      "text/html": [
       "<div>\n",
       "<style scoped>\n",
       "    .dataframe tbody tr th:only-of-type {\n",
       "        vertical-align: middle;\n",
       "    }\n",
       "\n",
       "    .dataframe tbody tr th {\n",
       "        vertical-align: top;\n",
       "    }\n",
       "\n",
       "    .dataframe thead th {\n",
       "        text-align: right;\n",
       "    }\n",
       "</style>\n",
       "<table border=\"1\" class=\"dataframe\">\n",
       "  <thead>\n",
       "    <tr style=\"text-align: right;\">\n",
       "      <th></th>\n",
       "      <th>Model</th>\n",
       "      <th>Scaler</th>\n",
       "      <th>Encoder</th>\n",
       "      <th>roc_auc score</th>\n",
       "    </tr>\n",
       "  </thead>\n",
       "  <tbody>\n",
       "    <tr>\n",
       "      <th>0</th>\n",
       "      <td>LogReg_1</td>\n",
       "      <td>Robust</td>\n",
       "      <td>TargetEncoder</td>\n",
       "      <td>0.825103</td>\n",
       "    </tr>\n",
       "    <tr>\n",
       "      <th>1</th>\n",
       "      <td>LogReg_2</td>\n",
       "      <td>MinMaxScaler()</td>\n",
       "      <td>OneHotEncoder</td>\n",
       "      <td>0.846913</td>\n",
       "    </tr>\n",
       "    <tr>\n",
       "      <th>2</th>\n",
       "      <td>DecisionTree</td>\n",
       "      <td>MinMaxScaler()</td>\n",
       "      <td>OneHotEncoder</td>\n",
       "      <td>0.763338</td>\n",
       "    </tr>\n",
       "    <tr>\n",
       "      <th>3</th>\n",
       "      <td>RandomForest</td>\n",
       "      <td>MinMaxScaler()</td>\n",
       "      <td>OneHotEncoder</td>\n",
       "      <td>0.916841</td>\n",
       "    </tr>\n",
       "    <tr>\n",
       "      <th>5</th>\n",
       "      <td>KNN</td>\n",
       "      <td>Robust</td>\n",
       "      <td>OneHotEncoder</td>\n",
       "      <td>0.899033</td>\n",
       "    </tr>\n",
       "  </tbody>\n",
       "</table>\n",
       "</div>"
      ],
      "text/plain": [
       "          Model          Scaler        Encoder roc_auc score \n",
       "0      LogReg_1          Robust  TargetEncoder       0.825103\n",
       "1      LogReg_2  MinMaxScaler()  OneHotEncoder       0.846913\n",
       "2  DecisionTree  MinMaxScaler()  OneHotEncoder       0.763338\n",
       "3  RandomForest  MinMaxScaler()  OneHotEncoder       0.916841\n",
       "5           KNN          Robust  OneHotEncoder       0.899033"
      ]
     },
     "metadata": {},
     "output_type": "display_data"
    }
   ],
   "source": [
    "df_results"
   ]
  },
  {
   "cell_type": "markdown",
   "id": "b33851ed",
   "metadata": {},
   "source": [
    "KNN is not better than the Random Forest model in terms of roc_auc score.Also, it is not efficient as it takes to much time to run the model since for this problem has so many preditive features to work with. "
   ]
  },
  {
   "cell_type": "markdown",
   "id": "365707d4",
   "metadata": {},
   "source": [
    "### Hyperparameter tuning For The Random Forest Model using Grid search "
   ]
  },
  {
   "cell_type": "markdown",
   "id": "dffd1ff1",
   "metadata": {},
   "source": [
    "#### comparing results"
   ]
  },
  {
   "cell_type": "code",
   "execution_count": 75,
   "id": "ddd4b503",
   "metadata": {},
   "outputs": [
    {
     "data": {
      "text/html": [
       "<div>\n",
       "<style scoped>\n",
       "    .dataframe tbody tr th:only-of-type {\n",
       "        vertical-align: middle;\n",
       "    }\n",
       "\n",
       "    .dataframe tbody tr th {\n",
       "        vertical-align: top;\n",
       "    }\n",
       "\n",
       "    .dataframe thead th {\n",
       "        text-align: right;\n",
       "    }\n",
       "</style>\n",
       "<table border=\"1\" class=\"dataframe\">\n",
       "  <thead>\n",
       "    <tr style=\"text-align: right;\">\n",
       "      <th></th>\n",
       "      <th>Model</th>\n",
       "      <th>Scaler</th>\n",
       "      <th>Encoder</th>\n",
       "      <th>roc_auc score</th>\n",
       "    </tr>\n",
       "  </thead>\n",
       "  <tbody>\n",
       "    <tr>\n",
       "      <th>0</th>\n",
       "      <td>LogReg_1</td>\n",
       "      <td>Robust</td>\n",
       "      <td>TargetEncoder</td>\n",
       "      <td>0.825103</td>\n",
       "    </tr>\n",
       "    <tr>\n",
       "      <th>1</th>\n",
       "      <td>LogReg_2</td>\n",
       "      <td>MinMaxScaler()</td>\n",
       "      <td>OneHotEncoder</td>\n",
       "      <td>0.846913</td>\n",
       "    </tr>\n",
       "    <tr>\n",
       "      <th>2</th>\n",
       "      <td>DecisionTree</td>\n",
       "      <td>MinMaxScaler()</td>\n",
       "      <td>OneHotEncoder</td>\n",
       "      <td>0.763338</td>\n",
       "    </tr>\n",
       "    <tr>\n",
       "      <th>3</th>\n",
       "      <td>RandomForest</td>\n",
       "      <td>MinMaxScaler()</td>\n",
       "      <td>OneHotEncoder</td>\n",
       "      <td>0.916841</td>\n",
       "    </tr>\n",
       "    <tr>\n",
       "      <th>5</th>\n",
       "      <td>KNN</td>\n",
       "      <td>Robust</td>\n",
       "      <td>OneHotEncoder</td>\n",
       "      <td>0.899033</td>\n",
       "    </tr>\n",
       "  </tbody>\n",
       "</table>\n",
       "</div>"
      ],
      "text/plain": [
       "          Model          Scaler        Encoder roc_auc score \n",
       "0      LogReg_1          Robust  TargetEncoder       0.825103\n",
       "1      LogReg_2  MinMaxScaler()  OneHotEncoder       0.846913\n",
       "2  DecisionTree  MinMaxScaler()  OneHotEncoder       0.763338\n",
       "3  RandomForest  MinMaxScaler()  OneHotEncoder       0.916841\n",
       "5           KNN          Robust  OneHotEncoder       0.899033"
      ]
     },
     "execution_count": 75,
     "metadata": {},
     "output_type": "execute_result"
    }
   ],
   "source": [
    "df_results"
   ]
  },
  {
   "cell_type": "markdown",
   "id": "ac236d2e",
   "metadata": {},
   "source": [
    "I created a dataFrame to store the model, scaler used,encoder used and ROC_AUC SCORE results of each model. According to the results dataFrame the best performing model For this binary problem was Random Forest classifier. I will therefore carry out parameter tuning for this model to come up with the best parameters for this model."
   ]
  },
  {
   "cell_type": "markdown",
   "id": "ddfdc1a2",
   "metadata": {},
   "source": [
    "Since Random forest performed better than the other four models, i will carry out Hyperparameter tuning for the model to choose the best parameters for the model. I will also use OneHotEncoder to encode my categorical features and also use MinMaxScaler() to scale my numerical features. Grid search shows us the best parameters for model. "
   ]
  },
  {
   "cell_type": "markdown",
   "id": "49d88502",
   "metadata": {},
   "source": [
    "### BEST MODEL: RandomForest Classifier 2"
   ]
  },
  {
   "cell_type": "code",
   "execution_count": 90,
   "id": "f7e444eb",
   "metadata": {},
   "outputs": [],
   "source": [
    "rf = RandomForestClassifier(n_estimators=100, random_state=42, n_jobs = -1,class_weight='balanced')"
   ]
  },
  {
   "cell_type": "code",
   "execution_count": 91,
   "id": "dbb426f2",
   "metadata": {},
   "outputs": [
    {
     "name": "stdout",
     "output_type": "stream",
     "text": [
      "Accuracy:\n",
      "TRAIN: 0.998442760942761\n",
      "TEST: 0.8541245791245792\n",
      "\n",
      "Balanced Accuracy:\n",
      "TRAIN: 0.998354322793721\n",
      "TEST: 0.8384409922897569\n"
     ]
    }
   ],
   "source": [
    "# fit the model\n",
    "final_model = make_pipeline(preprocessor,rf)\n",
    "final_model.fit(X_train, y_train)\n",
    "\n",
    "# make predictions on training set\n",
    "y_pred = pipe.predict(X_train)\n",
    "\n",
    "# make predictions on test set\n",
    "y_pred_test = pipe.predict(X_test)\n",
    "\n",
    "print(\"Accuracy:\")\n",
    "print(f\"TRAIN: {accuracy_score(y_train, y_pred)}\")\n",
    "print(f\"TEST: {accuracy_score(y_test, y_pred_test)}\")\n",
    "\n",
    "print(\"\\nBalanced Accuracy:\")\n",
    "print(f\"TRAIN: {balanced_accuracy_score(y_train, y_pred)}\")\n",
    "print(f\"TEST: {balanced_accuracy_score(y_test, y_pred_test)}\")"
   ]
  },
  {
   "cell_type": "code",
   "execution_count": 92,
   "id": "6f63d3c3",
   "metadata": {},
   "outputs": [
    {
     "name": "stdout",
     "output_type": "stream",
     "text": [
      "log loss:  0.4928232623987876\n",
      "accuracy:  0.8541245791245792\n",
      "precision: 0.8631921824104235\n",
      "recall:    0.9065407772304324\n"
     ]
    }
   ],
   "source": [
    "# Replace None with appropriate code\n",
    "from sklearn.metrics import accuracy_score, precision_score, recall_score, log_loss\n",
    "\n",
    "preds = final_model.predict(X_test)\n",
    "probs = final_model.predict_proba(X_test)\n",
    "\n",
    "\n",
    "print(\"log loss: \", log_loss(y_test, probs))\n",
    "print(\"accuracy: \", accuracy_score(y_test, y_pred_test))\n",
    "print(\"precision:\", precision_score(y_test, y_pred_test))\n",
    "print(\"recall:   \", recall_score(y_test, y_pred_test))"
   ]
  },
  {
   "cell_type": "code",
   "execution_count": 87,
   "id": "2444eb51",
   "metadata": {},
   "outputs": [
    {
     "data": {
      "image/png": "[encoded data removed]",
      "text/plain": [
       "<Figure size 432x288 with 2 Axes>"
      ]
     },
     "metadata": {
      "needs_background": "light"
     },
     "output_type": "display_data"
    }
   ],
   "source": [
    "#plot_confusion_matrix(lr, y_test, y_pred_test)\n",
    "plot_confusion_matrix(pipe, X_test, y_test)  \n",
    "plt.show()"
   ]
  },
  {
   "cell_type": "code",
   "execution_count": 80,
   "id": "cbfed35e",
   "metadata": {},
   "outputs": [
    {
     "name": "stdout",
     "output_type": "stream",
     "text": [
      "0.9182835754645484\n"
     ]
    }
   ],
   "source": [
    "scores = cross_val_score(pipe, X, y, cv=5, scoring='roc_auc')\n",
    "print(scores.mean())"
   ]
  },
  {
   "cell_type": "code",
   "execution_count": 81,
   "id": "7d173976",
   "metadata": {},
   "outputs": [],
   "source": [
    "df_results = df_results.append({       \n",
    "     \"Model\": 'RandomForest' ,\n",
    "      \"Scaler\": 'MinMaxScaler()' , \n",
    "       'Encoder' : 'OneHotEncoder',\n",
    "               'roc_auc score ' :0.9182835754645484\n",
    "                    }, ignore_index=True)"
   ]
  },
  {
   "cell_type": "code",
   "execution_count": 82,
   "id": "8eee1ee0",
   "metadata": {},
   "outputs": [
    {
     "data": {
      "text/html": [
       "<div>\n",
       "<style scoped>\n",
       "    .dataframe tbody tr th:only-of-type {\n",
       "        vertical-align: middle;\n",
       "    }\n",
       "\n",
       "    .dataframe tbody tr th {\n",
       "        vertical-align: top;\n",
       "    }\n",
       "\n",
       "    .dataframe thead th {\n",
       "        text-align: right;\n",
       "    }\n",
       "</style>\n",
       "<table border=\"1\" class=\"dataframe\">\n",
       "  <thead>\n",
       "    <tr style=\"text-align: right;\">\n",
       "      <th></th>\n",
       "      <th>Model</th>\n",
       "      <th>Scaler</th>\n",
       "      <th>Encoder</th>\n",
       "      <th>roc_auc score</th>\n",
       "    </tr>\n",
       "  </thead>\n",
       "  <tbody>\n",
       "    <tr>\n",
       "      <th>0</th>\n",
       "      <td>LogReg_1</td>\n",
       "      <td>Robust</td>\n",
       "      <td>TargetEncoder</td>\n",
       "      <td>0.825103</td>\n",
       "    </tr>\n",
       "    <tr>\n",
       "      <th>1</th>\n",
       "      <td>LogReg_2</td>\n",
       "      <td>MinMaxScaler()</td>\n",
       "      <td>OneHotEncoder</td>\n",
       "      <td>0.846913</td>\n",
       "    </tr>\n",
       "    <tr>\n",
       "      <th>2</th>\n",
       "      <td>DecisionTree</td>\n",
       "      <td>MinMaxScaler()</td>\n",
       "      <td>OneHotEncoder</td>\n",
       "      <td>0.763338</td>\n",
       "    </tr>\n",
       "    <tr>\n",
       "      <th>3</th>\n",
       "      <td>RandomForest</td>\n",
       "      <td>MinMaxScaler()</td>\n",
       "      <td>OneHotEncoder</td>\n",
       "      <td>0.916841</td>\n",
       "    </tr>\n",
       "    <tr>\n",
       "      <th>4</th>\n",
       "      <td>KNN</td>\n",
       "      <td>Robust</td>\n",
       "      <td>OneHotEncoder</td>\n",
       "      <td>0.899033</td>\n",
       "    </tr>\n",
       "    <tr>\n",
       "      <th>5</th>\n",
       "      <td>RandomForest</td>\n",
       "      <td>MinMaxScaler()</td>\n",
       "      <td>OneHotEncoder</td>\n",
       "      <td>0.918284</td>\n",
       "    </tr>\n",
       "  </tbody>\n",
       "</table>\n",
       "</div>"
      ],
      "text/plain": [
       "          Model          Scaler        Encoder roc_auc score \n",
       "0      LogReg_1          Robust  TargetEncoder       0.825103\n",
       "1      LogReg_2  MinMaxScaler()  OneHotEncoder       0.846913\n",
       "2  DecisionTree  MinMaxScaler()  OneHotEncoder       0.763338\n",
       "3  RandomForest  MinMaxScaler()  OneHotEncoder       0.916841\n",
       "4           KNN          Robust  OneHotEncoder       0.899033\n",
       "5  RandomForest  MinMaxScaler()  OneHotEncoder       0.918284"
      ]
     },
     "execution_count": 82,
     "metadata": {},
     "output_type": "execute_result"
    }
   ],
   "source": [
    "df_results"
   ]
  },
  {
   "cell_type": "markdown",
   "id": "7d684062",
   "metadata": {},
   "source": [
    "Tuning our model by increasing n_estimators from 50 to 100 slightly increased the accuracy of the model from 0. 916841 to 0.918284. From the confusion matrxi 6625 water points were correctly classified as functional while 683 water points were wrongly classified as Non-functional but were actually funtional water points. Also, 3522 Water points correctly classified as non-functional while 1050 water points were wrongly classiied as functional but were actually non-functional water points."
   ]
  }
 ],
 "metadata": {
  "kernelspec": {
   "display_name": "Python (learn-env)",
   "language": "python",
   "name": "learn-env"
  },
  "language_info": {
   "codemirror_mode": {
    "name": "ipython",
    "version": 3
   },
   "file_extension": ".py",
   "mimetype": "text/x-python",
   "name": "python",
   "nbconvert_exporter": "python",
   "pygments_lexer": "ipython3",
   "version": "3.9.12"
  },
  "vscode": {
   "interpreter": {
    "hash": "9ad04f1516e999b84e311d98a37c86acbdeebd5658850f3eefb68ad6d8725070"
   }
  }
 },
 "nbformat": 4,
 "nbformat_minor": 5
}
